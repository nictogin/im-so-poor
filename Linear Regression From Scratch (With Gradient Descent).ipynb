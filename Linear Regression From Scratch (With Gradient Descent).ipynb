{
 "cells": [
  {
   "cell_type": "code",
   "execution_count": 1,
   "metadata": {},
   "outputs": [
    {
     "name": "stdout",
     "output_type": "stream",
     "text": [
      "1.4607911678007937 0.08980028357345672\n"
     ]
    }
   ],
   "source": [
    "import pandas as pd\n",
    "import matplotlib.pyplot as plt\n",
    "\n",
    "points = pd.read_csv('data.csv')\n",
    "\n",
    "def loss_function(m, b, points):\n",
    "    total_error = 0\n",
    "    for i in range(len(points)):\n",
    "        x = points.iloc[i, 0]\n",
    "        y = points.iloc[i, 1]\n",
    "        total_error += (y - (m * x + b)) ** 2\n",
    "    return total_error / float(len(points))\n",
    "\n",
    "def gradient_descent(m_now, b_now, points, L):\n",
    "    m_gradient = 0\n",
    "    b_gradient = 0\n",
    "    n = float(len(points))\n",
    "    for i in range(len(points)):\n",
    "        x = points.iloc[i, 0]\n",
    "        y = points.iloc[i, 1]\n",
    "        m_gradient += -(2/n) * x * (y - (m_now * x + b_now))\n",
    "        b_gradient += -(2/n) * (y - (m_now * x + b_now))\n",
    "    m = m_now - L * m_gradient\n",
    "    b = b_now - L * b_gradient\n",
    "    return [m, b]\n",
    "\n",
    "m = 0\n",
    "b = 0\n",
    "L = 0.0001\n",
    "epochs = 1000\n",
    "\n",
    "for i in range(epochs):\n",
    "    m, b = gradient_descent(m, b, points, L)\n",
    "\n",
    "print(m, b)"
   ]
  },
  {
   "cell_type": "code",
   "execution_count": 2,
   "metadata": {},
   "outputs": [
    {
     "data": {
      "image/png": "[encoded data removed]",
      "text/plain": [
       "<Figure size 432x288 with 2 Axes>"
      ]
     },
     "metadata": {},
     "output_type": "display_data"
    }
   ],
   "source": [
    "#Visualizing and animating\n",
    "m = 0\n",
    "b = 0\n",
    "L = 0.00001\n",
    "epochs = 100 #number of iterations to perform gradient descent\n",
    "\n",
    "plt.ion()\n",
    "\n",
    "fig = plt.figure()\n",
    "ax1 = fig.add_subplot(211)\n",
    "ax2 = fig.add_subplot(212)\n",
    "\n",
    "ax2.set_xlim([0,epochs])\n",
    "ax2.set_ylim([0,loss_function(m,b,points)])\n",
    "\n",
    "ax1.scatter(points.iloc[:,0], points.iloc[:,1])\n",
    "line, = ax1.plot(range(20, 80), range(20, 80), color='red')\n",
    "line2, = ax2.plot(0,0)\n",
    "\n",
    "xlist = []\n",
    "ylist = []\n",
    "\n",
    "for i in range(epochs):\n",
    "    m, b = gradient_descent(m, b, points, L)\n",
    "    line.set_ydata(m * range(20, 80) + b)\n",
    "\n",
    "    xlist.append(i)\n",
    "    ylist.append(loss_function(m, b, points))\n",
    "    line2.set_xdata(xlist)\n",
    "    line2.set_ydata(ylist)\n",
    "    #fig.canvas.draw()\n",
    "\n",
    "plt.ioff()\n",
    "\n",
    "#Styling\n",
    "\n",
    "fig.set_facecolor('#121212')\n",
    "ax1.set_title('Linear Regression', color='white')\n",
    "ax2.set_title('Loss Function', color='white')\n",
    "ax1.grid(True, color='#323232')\n",
    "ax2.grid(True, color='#323232')\n",
    "ax1.set_facecolor('black')\n",
    "ax2.set_facecolor('black')\n",
    "ax1.tick_params(axis='x', colors='white')\n",
    "ax1.tick_params(axis='y', colors='white')\n",
    "ax2.tick_params(axis='x', colors='white')\n",
    "ax2.tick_params(axis='y', colors='white')\n",
    "plt.tight_layout()\n",
    "\n",
    "#ax1.scatter(points.iloc[:,0], points.iloc[:,1], color='#EF6C35')\n",
    "#line, = ax1.plot(range(20, 80), range(20, 80), color='#00ABAB')\n",
    "#line2, = ax2.plot(0,0, color='#00ABAB')\n",
    "\n",
    "plt.show()"
   ]
  },
  {
   "cell_type": "markdown",
   "metadata": {},
   "source": [
    "https://towardsdatascience.com/linear-regression-using-gradient-descent-97a6c8700931\n",
    "    \n",
    "https://www.neuralnine.com/linear-regression-from-scratch-in-python/"
   ]
  }
 ],
 "metadata": {
  "kernelspec": {
   "display_name": "Python 3",
   "language": "python",
   "name": "python3"
  },
  "language_info": {
   "codemirror_mode": {
    "name": "ipython",
    "version": 3
   },
   "file_extension": ".py",
   "mimetype": "text/x-python",
   "name": "python",
   "nbconvert_exporter": "python",
   "pygments_lexer": "ipython3",
   "version": "3.8.5"
  }
 },
 "nbformat": 4,
 "nbformat_minor": 4
}
