{
 "cells": [
  {
   "cell_type": "code",
   "execution_count": 2,
   "metadata": {},
   "outputs": [
    {
     "name": "stdout",
     "output_type": "stream",
     "text": [
      "a591a6d40bf420404a011733cfb7b190d62c65bf0bcda32b57b277d9ad9f146e\n"
     ]
    }
   ],
   "source": [
    "import hashlib\n",
    "\n",
    "print(hashlib.sha256(\"Hello World\".encode()).hexdigest())\n",
    "\n",
    "def mine(block_number, transactions, previous_hash):\n",
    "    pass"
   ]
  },
  {
   "cell_type": "code",
   "execution_count": 11,
   "metadata": {},
   "outputs": [],
   "source": [
    "import hashlib\n",
    "\n",
    "nonce_limit = 100000000000#max number that we going to check\n",
    "\n",
    "zeros = 4 #how many zero we are looking for (we are looking for 16 leading zeroes for btc)\n",
    "\n",
    "def mine(block_number, transactions, previous_hash):\n",
    "    for nonce in range(nonce_limit):\n",
    "        base_text = str(block_number) + transactions + previous_hash + str(nonce)\n",
    "        hash_try = hashlib.sha256(base_text.encode()).hexdigest()\n",
    "        if hash_try.startswith(\"0\"*zeros):\n",
    "            print(f\"Found Hash With Nonce: {nonce}\")\n",
    "            return hash_try\n",
    "    return -1 #failure\n",
    "        "
   ]
  },
  {
   "cell_type": "code",
   "execution_count": 7,
   "metadata": {},
   "outputs": [
    {
     "name": "stdout",
     "output_type": "stream",
     "text": [
      "6f24de1948ebbc2e3e43edab24255b965edc39dc9304b922efad87cfd5270058\n",
      "197dc89b0749cfc3de817d86ff916d8f40a19a54e654ae05c99d4df4dc5c4213\n"
     ]
    }
   ],
   "source": [
    "#we try it our own first\n",
    "block_number = 24\n",
    "transactions = \"7869sdfs897789\"\n",
    "previous_hash = \"896789sdfds7021\"\n",
    "\n",
    "combine_text = str(block_number) + transactions + previous_hash\n",
    "print(hashlib.sha256(combine_text.encode()).hexdigest())\n",
    "\n",
    "#Now we try to add nonces at the end so that we end up have leading zeroes\n",
    "#for example\n",
    "combine_text = str(block_number) + transactions + previous_hash + str(78)\n",
    "print(hashlib.sha256(combine_text.encode()).hexdigest())"
   ]
  },
  {
   "cell_type": "code",
   "execution_count": 12,
   "metadata": {},
   "outputs": [
    {
     "name": "stdout",
     "output_type": "stream",
     "text": [
      "Found Hash With Nonce: 29411\n"
     ]
    },
    {
     "data": {
      "text/plain": [
       "'000060675b558b986590dc82ebadfc808e799e1c1c869ffbc7abc6faa3eb826b'"
      ]
     },
     "execution_count": 12,
     "metadata": {},
     "output_type": "execute_result"
    }
   ],
   "source": [
    "mine(block_number, transactions, previous_hash)"
   ]
  },
  {
   "cell_type": "code",
   "execution_count": 13,
   "metadata": {},
   "outputs": [
    {
     "name": "stdout",
     "output_type": "stream",
     "text": [
      "000060675b558b986590dc82ebadfc808e799e1c1c869ffbc7abc6faa3eb826b\n"
     ]
    }
   ],
   "source": [
    "combine_text = str(block_number) + transactions + previous_hash + str(29411)\n",
    "print(hashlib.sha256(combine_text.encode()).hexdigest())"
   ]
  },
  {
   "cell_type": "markdown",
   "metadata": {},
   "source": [
    "https://www.youtube.com/watch?v=f0ZDVqoViqE\n",
    "    \n",
    "https://www.blockchain.com/?utm_campaign=expnav_logo"
   ]
  }
 ],
 "metadata": {
  "kernelspec": {
   "display_name": "Python 3",
   "language": "python",
   "name": "python3"
  },
  "language_info": {
   "codemirror_mode": {
    "name": "ipython",
    "version": 3
   },
   "file_extension": ".py",
   "mimetype": "text/x-python",
   "name": "python",
   "nbconvert_exporter": "python",
   "pygments_lexer": "ipython3",
   "version": "3.8.5"
  }
 },
 "nbformat": 4,
 "nbformat_minor": 4
}
