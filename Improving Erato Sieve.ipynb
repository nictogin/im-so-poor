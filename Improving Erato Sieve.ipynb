{
 "cells": [
  {
   "cell_type": "code",
   "execution_count": null,
   "metadata": {},
   "outputs": [],
   "source": [
    "'''\n",
    "adv_eratosieve():\n",
    "The old school brutal force method is quite tedious when the range is big and it waste a lot of time on removing \n",
    "mutiples of 2. \n",
    "It is very easy to spot the mutiples of 2, so we can form a list that without mutiples of 2 at the first place\n",
    "before the sieving.\n",
    "\n",
    "SieveOfEratosthenesTandF():\n",
    "From https://www.geeksforgeeks.org/python-program-for-sieve-of-eratosthenes/, way less usuage of 'int' objects,\n",
    "notice that\n",
    "\n",
    "p.s. 2.4 GHz Quad-Core Intel Core i5\n",
    "'''"
   ]
  },
  {
   "cell_type": "code",
   "execution_count": 1,
   "metadata": {},
   "outputs": [],
   "source": [
    "import math\n",
    "def EratoSieve(n):\n",
    "    Erato = list(range(2,n+1))\n",
    "    for x in range(2,n):\n",
    "        for y in range(2,n+1):\n",
    "            if y>x:\n",
    "                if y%x==0:\n",
    "                    if y in Erato:\n",
    "                        Erato.remove(y)            \n",
    "        if n<=(x**2):\n",
    "            return Erato\n",
    "\n",
    "def adv_eratosieve(n):\n",
    "    list_of_num = list(range(1,math.ceil(n/2)+1))\n",
    "    length = len(list_of_num)\n",
    "    for x in range(1,len(list_of_num)):\n",
    "        list_of_num[x] = (list_of_num[x]*2)-1\n",
    "    list_of_num[0] = 2\n",
    "    for x in range(3,n,2):\n",
    "        if n<=x**2:\n",
    "            sets = set(list_of_num)\n",
    "            sets.remove('')\n",
    "            return list(sets)\n",
    "            #return mergeSort(list(sets))\n",
    "        for y in range(length):\n",
    "            if type(list_of_num[y]) == int:\n",
    "                if list_of_num[y]>x:\n",
    "                    if list_of_num[y]%x==0:\n",
    "                            list_of_num[y]=''\n",
    "\n",
    "def mergeSort(arr):\n",
    "    if len(arr) > 1:\n",
    " \n",
    "         # Finding the mid of the array\n",
    "        mid = len(arr)//2\n",
    " \n",
    "        # Dividing the array elements\n",
    "        L = arr[:mid]\n",
    " \n",
    "        # into 2 halves\n",
    "        R = arr[mid:]\n",
    " \n",
    "        # Sorting the first half\n",
    "        mergeSort(L)\n",
    " \n",
    "        # Sorting the second half\n",
    "        mergeSort(R)\n",
    " \n",
    "        i = j = k = 0\n",
    " \n",
    "        # Copy data to temp arrays L[] and R[]\n",
    "        while i < len(L) and j < len(R):\n",
    "            if L[i] < R[j]:\n",
    "                arr[k] = L[i]\n",
    "                i += 1\n",
    "            else:\n",
    "                arr[k] = R[j]\n",
    "                j += 1\n",
    "            k += 1\n",
    " \n",
    "        # Checking if any element was left\n",
    "        while i < len(L):\n",
    "            arr[k] = L[i]\n",
    "            i += 1\n",
    "            k += 1\n",
    " \n",
    "        while j < len(R):\n",
    "            arr[k] = R[j]\n",
    "            j += 1\n",
    "            k += 1\n",
    " \n",
    "        return arr\n",
    "\n",
    "def SieveOfEratosthenesTandF(n):\n",
    "      \n",
    "    # Create a boolean array \"prime[0..n]\" and initialize\n",
    "    # all entries it as true. A value in prime[i] will\n",
    "    # finally be false if i is Not a prime, else true.\n",
    "    prime = [True for i in range(n + 1)]\n",
    "    numbers = list()\n",
    "    p = 2\n",
    "    while (p * p <= n):\n",
    "          \n",
    "        # If prime[p] is not changed, then it is a prime\n",
    "        if (prime[p] == True):\n",
    "              \n",
    "            # Update all multiples of p\n",
    "            for i in range(p * 2, n + 1, p):\n",
    "                prime[i] = False\n",
    "        p += 1\n",
    "    prime[0]= False\n",
    "    prime[1]= False\n",
    "    # Print all prime numbers\n",
    "    for p in range(n + 1):\n",
    "        if prime[p]:\n",
    "            numbers.append(p)\n",
    "    return numbers\n",
    "\n"
   ]
  },
  {
   "cell_type": "code",
   "execution_count": 2,
   "metadata": {},
   "outputs": [
    {
     "name": "stdout",
     "output_type": "stream",
     "text": [
      "33.74431610107422\n"
     ]
    }
   ],
   "source": [
    "import time\n",
    "start = time.time()\n",
    "adv_eratosieve(1000000)\n",
    "end = time.time()-start\n",
    "print(end)"
   ]
  },
  {
   "cell_type": "code",
   "execution_count": 4,
   "metadata": {},
   "outputs": [
    {
     "name": "stdout",
     "output_type": "stream",
     "text": [
      "0.23349499702453613\n"
     ]
    }
   ],
   "source": [
    "import time\n",
    "start = time.time()\n",
    "SieveOfEratosthenesTandF(1000000)\n",
    "end = time.time()-start\n",
    "print(end)"
   ]
  },
  {
   "cell_type": "code",
   "execution_count": 5,
   "metadata": {},
   "outputs": [],
   "source": [
    "#original one\n",
    "def EratoSieve(n):\n",
    "    Erato = list(range(2,n+1))\n",
    "    for x in range(2,n):\n",
    "        for y in range(2,n+1):\n",
    "            if y>x:\n",
    "                if y%x==0:\n",
    "                    if y in Erato:\n",
    "                        Erato.remove(y)\n",
    "            \n",
    "        if n<=(x**2):\n",
    "            print('There are {} prime numbers.'.format(len(Erato)))\n",
    "            return Erato"
   ]
  },
  {
   "cell_type": "code",
   "execution_count": null,
   "metadata": {},
   "outputs": [],
   "source": [
    "import time\n",
    "start = time.time()\n",
    "EratoSieve(1000000)\n",
    "end = time.time()-start\n",
    "print(end)\n",
    "#the brutal one is so useless that it still not finish the job after listening to a 30-min medley"
   ]
  }
 ],
 "metadata": {
  "kernelspec": {
   "display_name": "Python 3",
   "language": "python",
   "name": "python3"
  },
  "language_info": {
   "codemirror_mode": {
    "name": "ipython",
    "version": 3
   },
   "file_extension": ".py",
   "mimetype": "text/x-python",
   "name": "python",
   "nbconvert_exporter": "python",
   "pygments_lexer": "ipython3",
   "version": "3.8.5"
  }
 },
 "nbformat": 4,
 "nbformat_minor": 4
}
