{
 "cells": [
  {
   "cell_type": "code",
   "execution_count": null,
   "metadata": {},
   "outputs": [],
   "source": [
    "'''\n",
    "Another improved algorithm on Sieve of Eratosthenes\n",
    "\n",
    "Manipulated Sieve of Eratosthenes algorithm works as following:\n",
    "\n",
    "For every number i where i varies from 2 to N-1:\n",
    "    Check if the number is prime. If the number\n",
    "    is prime, store it in prime array.\n",
    "\n",
    "For every prime numbers j less than or equal to the smallest  \n",
    "prime factor p of i:\n",
    "    Mark all numbers j*p as non_prime.\n",
    "    Mark smallest prime factor of j*p as j\n",
    "    \n",
    "https://www.geeksforgeeks.org/sieve-eratosthenes-0n-time-complexity/\n",
    "'''"
   ]
  },
  {
   "cell_type": "code",
   "execution_count": 1,
   "metadata": {},
   "outputs": [
    {
     "name": "stdout",
     "output_type": "stream",
     "text": [
      "2 3 5 7 11 "
     ]
    }
   ],
   "source": [
    "# Python3 program to generate all \n",
    "# prime numbers less than N in O(N) \n",
    "  \n",
    "MAX_SIZE = 1000001\n",
    "  \n",
    "# isPrime[] : isPrime[i] is true if\n",
    "#             number is prime \n",
    "# prime[] : stores all prime number \n",
    "#           less than N \n",
    "# SPF[] that store smallest prime \n",
    "# factor of number [for ex : smallest \n",
    "# prime factor of '8' and '16' \n",
    "# is '2' so we put SPF[8] = 2 , \n",
    "# SPF[16] = 2 ] \n",
    "isprime = [True] * MAX_SIZE \n",
    "prime = [] \n",
    "SPF = [None] * (MAX_SIZE) \n",
    "  \n",
    "# function generate all prime number \n",
    "# less then N in O(n) \n",
    "def manipulated_seive(N): \n",
    "  \n",
    "    # 0 and 1 are not prime \n",
    "    isprime[0] = isprime[1] = False\n",
    "  \n",
    "    # Fill rest of the entries \n",
    "    for i in range(2, N): \n",
    "      \n",
    "        # If isPrime[i] == True then i is \n",
    "        # prime number \n",
    "        if isprime[i] == True: \n",
    "          \n",
    "            # put i into prime[] vector \n",
    "            prime.append(i) \n",
    "  \n",
    "            # A prime number is its own smallest \n",
    "            # prime factor \n",
    "            SPF[i] = i \n",
    "          \n",
    "        # Remove all multiples of i*prime[j] \n",
    "        # which are not prime by making is\n",
    "        # Prime[i * prime[j]] = false and put\n",
    "        # smallest prime factor of i*Prime[j]\n",
    "        # as prime[j] [ for exp :let i = 5 , j = 0 ,\n",
    "        # prime[j] = 2 [ i*prime[j] = 10 ] \n",
    "        # so smallest prime factor of '10' is '2' \n",
    "        # that is prime[j] ] this loop run only one \n",
    "        # time for number which are not prime \n",
    "        j = 0\n",
    "        while (j < len(prime) and\n",
    "               i * prime[j] < N and\n",
    "                   prime[j] <= SPF[i]):\n",
    "          \n",
    "            isprime[i * prime[j]] = False\n",
    "  \n",
    "            # put smallest prime factor of i*prime[j] \n",
    "            SPF[i * prime[j]] = prime[j]\n",
    "              \n",
    "            j += 1\n",
    "            \n",
    "if __name__ == \"__main__\":           \n",
    "    #Driver Code\n",
    "  \n",
    "    N = 13 # Must be less than MAX_SIZE \n",
    "  \n",
    "    manipulated_seive(N) \n",
    "  \n",
    "    # print all prime number less then N \n",
    "    i = 0\n",
    "    while i < len(prime) and prime[i] <= N:\n",
    "        print(prime[i], end = \" \") \n",
    "        i += 1\n",
    "          \n",
    "# This code is contributed by Rituraj Jain"
   ]
  },
  {
   "cell_type": "code",
   "execution_count": 7,
   "metadata": {},
   "outputs": [],
   "source": [
    "# function generate all prime number \n",
    "# less then N in O(n) \n",
    "def improved_seive(N): \n",
    "    isprime = [True] * N\n",
    "    prime = list()\n",
    "    SPF = [None] * N\n",
    "    isprime[0] = isprime[1] = False\n",
    "  \n",
    "    for i in range(2, N): \n",
    "        if isprime[i] == True: \n",
    "            prime.append(i) \n",
    "            SPF[i] = i \n",
    "            \n",
    "        j = 0\n",
    "        while (j < len(prime) and\n",
    "               i * prime[j] < N and\n",
    "                   prime[j] <= SPF[i]):\n",
    "          \n",
    "            isprime[i * prime[j]] = False\n",
    "            SPF[i * prime[j]] = prime[j]\n",
    "              \n",
    "            j += 1\n",
    "    #print(prime)"
   ]
  },
  {
   "cell_type": "code",
   "execution_count": 3,
   "metadata": {},
   "outputs": [
    {
     "name": "stdout",
     "output_type": "stream",
     "text": [
      "[2, 3, 5, 7, 11, 13, 17, 19, 23, 29, 31, 37, 41, 43, 47, 53, 59, 61, 67, 71, 73, 79, 83, 89, 97]\n"
     ]
    }
   ],
   "source": [
    "improved_seive(100)"
   ]
  },
  {
   "cell_type": "code",
   "execution_count": 4,
   "metadata": {},
   "outputs": [],
   "source": [
    "def SieveOfEratosthenesTandF(n):\n",
    "      \n",
    "    # Create a boolean array \"prime[0..n]\" and initialize\n",
    "    # all entries it as true. A value in prime[i] will\n",
    "    # finally be false if i is Not a prime, else true.\n",
    "    prime = [True for i in range(n + 1)]\n",
    "    numbers = list()\n",
    "    p = 2\n",
    "    while (p * p <= n):\n",
    "          \n",
    "        # If prime[p] is not changed, then it is a prime\n",
    "        if (prime[p] == True):\n",
    "              \n",
    "            # Update all multiples of p\n",
    "            for i in range(p * 2, n + 1, p):\n",
    "                prime[i] = False\n",
    "        p += 1\n",
    "    prime[0]= False\n",
    "    prime[1]= False\n",
    "    # Print all prime numbers\n",
    "    for p in range(n + 1):\n",
    "        if prime[p]:\n",
    "            numbers.append(p)\n",
    "    return numbers\n",
    "\n"
   ]
  },
  {
   "cell_type": "code",
   "execution_count": 5,
   "metadata": {},
   "outputs": [
    {
     "name": "stdout",
     "output_type": "stream",
     "text": [
      "0.002483844757080078\n"
     ]
    }
   ],
   "source": [
    "import time\n",
    "start = time.time()\n",
    "SieveOfEratosthenesTandF(10000)\n",
    "end = time.time()-start\n",
    "print(end)"
   ]
  },
  {
   "cell_type": "code",
   "execution_count": 8,
   "metadata": {},
   "outputs": [
    {
     "name": "stdout",
     "output_type": "stream",
     "text": [
      "0.007908821105957031\n"
     ]
    }
   ],
   "source": [
    "import time\n",
    "start = time.time()\n",
    "improved_seive(10000)\n",
    "end = time.time()-start\n",
    "print(end)"
   ]
  },
  {
   "cell_type": "code",
   "execution_count": 9,
   "metadata": {},
   "outputs": [],
   "source": [
    "#still slower than the original method?"
   ]
  },
  {
   "cell_type": "code",
   "execution_count": 10,
   "metadata": {},
   "outputs": [
    {
     "name": "stdout",
     "output_type": "stream",
     "text": [
      "2.455801010131836\n"
     ]
    }
   ],
   "source": [
    "import time\n",
    "start = time.time()\n",
    "SieveOfEratosthenesTandF(10000000)\n",
    "end = time.time()-start\n",
    "print(end)"
   ]
  },
  {
   "cell_type": "code",
   "execution_count": 11,
   "metadata": {},
   "outputs": [
    {
     "name": "stdout",
     "output_type": "stream",
     "text": [
      "6.247821092605591\n"
     ]
    }
   ],
   "source": [
    "import time\n",
    "start = time.time()\n",
    "improved_seive(10000000)\n",
    "end = time.time()-start\n",
    "print(end)"
   ]
  }
 ],
 "metadata": {
  "kernelspec": {
   "display_name": "Python 3",
   "language": "python",
   "name": "python3"
  },
  "language_info": {
   "codemirror_mode": {
    "name": "ipython",
    "version": 3
   },
   "file_extension": ".py",
   "mimetype": "text/x-python",
   "name": "python",
   "nbconvert_exporter": "python",
   "pygments_lexer": "ipython3",
   "version": "3.8.5"
  }
 },
 "nbformat": 4,
 "nbformat_minor": 4
}
