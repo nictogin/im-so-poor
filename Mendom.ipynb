{
 "cells": [
  {
   "cell_type": "markdown",
   "metadata": {},
   "source": [
    "https://stackoverflow.com/questions/54069538/how-to-use-a-discord-py-bot-that-gives-a-user-role-when-they-join-vc-and-remove"
   ]
  },
  {
   "cell_type": "code",
   "execution_count": null,
   "metadata": {},
   "outputs": [
    {
     "name": "stdout",
     "output_type": "stream",
     "text": [
      "Bot connected to the server!\n"
     ]
    }
   ],
   "source": [
    "import discord\n",
    "import os\n",
    "import random \n",
    "import nest_asyncio\n",
    "\n",
    "nest_asyncio.apply()\n",
    "client = discord.Client()\n",
    "\n",
    "monkey = ['收嗲啦!屌你老母馬志建','好人好姐學咩人聽歌啊']\n",
    "no = ['唔係囉','唔係囉','我唔理 總之就唔係']\n",
    "TOKEN = 'ODQ4OTY2OTk4OTE0NjI5NjYy.YLUUIQ.PydIQjQJWsBmCli-_gYMRDZCWq4'\n",
    "\n",
    "@client.event\n",
    "async def on_connect():\n",
    "    print(\"Bot connected to the server!\")\n",
    "    #channel = client.get_channel(849023011776757780) \n",
    "    #await channel.send('Bot connected to the server!')\n",
    "    \n",
    "@client.event\n",
    "async def on_message(message):\n",
    "\n",
    "    if message.author == client.user:\n",
    "        return \n",
    "    if str(message.author) == 'seanlyw613#1657':\n",
    "        if message.content.startswith('!play'):\n",
    "            await message.channel.send(monkey[random.randint(0,1)])\n",
    "            return\n",
    "        if message.content.startswith('!fs'):\n",
    "            await message.channel.send('臭Bi 又要播歌又要skip') \n",
    "            return\n",
    "        if 'dllm' in message.content or '屌' in message.content:\n",
    "            await message.channel.send('講唔贏爆粗啊 係囉係囉係囉') \n",
    "            return\n",
    "        await message.channel.send(no[random.randint(0,2)])\n",
    "\n",
    "client.run(TOKEN) "
   ]
  },
  {
   "cell_type": "code",
   "execution_count": null,
   "metadata": {},
   "outputs": [],
   "source": [
    "import discord\n",
    "import os\n",
    "import random \n",
    "\n",
    "client = discord.Client()\n",
    "\n",
    "monkey = ['收嗲啦!屌你老母馬志建','好人好姐學咩人聽歌啊','唔係囉']\n",
    "no = ['唔係囉','唔係囉','我唔理 總之就唔係']\n",
    "TOKEN = 'ODQ4OTY2OTk4OTE0NjI5NjYy.YLUUIQ.PydIQjQJWsBmCli-_gYMRDZCWq4'\n",
    "\n",
    "@client.event\n",
    "async def on_connect():\n",
    "    print(\"Bot connected to the server!\")\n",
    "    #channel = client.get_channel(849023011776757780) \n",
    "    #await channel.send('Bot connected to the server!')\n",
    "    \n",
    "@client.event\n",
    "async def on_message(message):\n",
    "\n",
    "    if message.author == client.user:\n",
    "        return \n",
    "    if str(message.author) == 'seanlyw613#1657':\n",
    "        if message.content.startswith('!play'):\n",
    "            await message.channel.send(monkey[random.randint(0,2)])\n",
    "            return\n",
    "        if message.content.startswith('!fs'):\n",
    "            await message.channel.send('臭Bi 又要播歌又要skip') \n",
    "            return\n",
    "        if 'dllm' in message.content or '屌' in message.content:\n",
    "            await message.channel.send('講唔贏爆粗啊 係囉係囉係囉') \n",
    "            return\n",
    "        await message.channel.send(no[random.randint(0,2)])\n",
    "\n",
    "client.run(TOKEN) "
   ]
  }
 ],
 "metadata": {
  "kernelspec": {
   "display_name": "Python 3",
   "language": "python",
   "name": "python3"
  },
  "language_info": {
   "codemirror_mode": {
    "name": "ipython",
    "version": 3
   },
   "file_extension": ".py",
   "mimetype": "text/x-python",
   "name": "python",
   "nbconvert_exporter": "python",
   "pygments_lexer": "ipython3",
   "version": "3.8.5"
  }
 },
 "nbformat": 4,
 "nbformat_minor": 4
}
