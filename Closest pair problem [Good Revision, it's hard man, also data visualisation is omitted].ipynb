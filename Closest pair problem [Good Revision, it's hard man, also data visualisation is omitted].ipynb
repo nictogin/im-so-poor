{
 "cells": [
  {
   "cell_type": "code",
   "execution_count": null,
   "metadata": {},
   "outputs": [],
   "source": [
    "'''\n",
    "Closest pair problem - \n",
    "The closest pair of points problem or closest pair problem is a problem of computational geometry: \n",
    "given n points in metric space, find a pair of points with the smallest distance between them.\n",
    "https://www.geeksforgeeks.org/closest-pair-of-points-using-divide-and-conquer-algorithm/"
   ]
  },
  {
   "cell_type": "code",
   "execution_count": 1,
   "metadata": {
    "scrolled": false
   },
   "outputs": [
    {
     "name": "stdout",
     "output_type": "stream",
     "text": [
      "The smallest distance is 1.4142135623730951\n"
     ]
    }
   ],
   "source": [
    "import math\n",
    "\n",
    "# A class to represent a Point in 2D plane \n",
    "class Point():\n",
    "    def __init__(self, x, y):\n",
    "        self.x = x\n",
    "        self.y = y\n",
    "\n",
    "def dist(pt1,pt2):\n",
    "    return math.sqrt((pt1.x - pt2.x)**2 + (pt1.y - pt2.y)**2)\n",
    "        \n",
    "def brute_force(P, n):\n",
    "    d = dist(P[0],P[1])\n",
    "    for a in range(n):\n",
    "        for b in range(a+1,n):\n",
    "            if dist(P[a],P[b])<=d:\n",
    "                d = dist(P[a],P[b])\n",
    "    return d\n",
    "\n",
    "def StripMin(strip, length_of_strip , d): #Find the minimum distance in the strip, if a\n",
    "    min_val = d #give the default value from min(Lmin,Rmin) to compare\n",
    "    for i in range(length_of_strip):\n",
    "        j = i + 1\n",
    "        while j < length_of_strip and (strip[j].y - strip[i].y) < min_val: ###This part is the most important \n",
    "            min_val = dist(strip[i], strip[j])\n",
    "            j += 1\n",
    "  \n",
    "    return min_val \n",
    "\n",
    "def HalfsAndCompare(P, Q, n): #Finding the minimum distance in the two halfs, then compare it with \n",
    "    if n <= 3: \n",
    "        return brute_force(P, n) \n",
    "    \n",
    "    mid = int(n/2)\n",
    "    mid_pt = P[mid]\n",
    "  \n",
    "    Lmin = HalfsAndCompare(P[:mid], Q, mid)\n",
    "    Rmin = HalfsAndCompare(P[mid:], Q, n - mid) \n",
    "  \n",
    "    d = min(Lmin, Rmin)\n",
    "  \n",
    "    # Find points that is bounded insdie the strip\n",
    "    strip = [] \n",
    "    for i in range(n): \n",
    "        if abs(Q[i].x - mid_pt.x) < d: \n",
    "            strip.append(Q[i])\n",
    "\n",
    "    return min(d, StripMin(strip, len(strip), d))\n",
    "  \n",
    "#Execution: Sorting the x-fir and y-dir then do the algorithms\n",
    "def DistClosestPair(P, n):\n",
    "    P.sort(key = lambda point: point.x)\n",
    "    Q = P\n",
    "    Q.sort(key = lambda point: point.y)    \n",
    "  \n",
    "    # Use recursion to find minimum distance\n",
    "    return HalfsAndCompare(P, Q, n)\n",
    "    \n",
    "# Driver code\n",
    "P = [Point(2, 3), Point(12, 30),\n",
    "     Point(40, 50), Point(5, 1), \n",
    "     Point(12, 10), Point(3, 4)]\n",
    "n = len(P) \n",
    "print(\"The smallest distance is\", DistClosestPair(P, n))\n"
   ]
  }
 ],
 "metadata": {
  "kernelspec": {
   "display_name": "Python 3",
   "language": "python",
   "name": "python3"
  },
  "language_info": {
   "codemirror_mode": {
    "name": "ipython",
    "version": 3
   },
   "file_extension": ".py",
   "mimetype": "text/x-python",
   "name": "python",
   "nbconvert_exporter": "python",
   "pygments_lexer": "ipython3",
   "version": "3.8.5"
  }
 },
 "nbformat": 4,
 "nbformat_minor": 4
}
