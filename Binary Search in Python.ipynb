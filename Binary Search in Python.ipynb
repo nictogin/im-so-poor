{
 "cells": [
  {
   "cell_type": "code",
   "execution_count": 3,
   "metadata": {},
   "outputs": [
    {
     "name": "stdout",
     "output_type": "stream",
     "text": [
      "[425, 332, 418, 6, 461, 454, 182, 264, 410, 500, 447, 328, 236, 444, 1, 148, 204, 315, 420, 437, 162, 30, 168, 119, 350, 207, 155, 88, 268, 145, 419, 357, 348, 116, 332, 247, 380, 404, 69, 7, 348, 137, 106, 433, 392, 290, 4, 42, 455, 436, 155, 14, 106, 500, 381, 179, 440, 177, 8, 324, 138, 74, 326, 67, 444, 491, 293, 375, 141, 300, 469, 174, 211, 342, 412, 172, 53, 16, 156, 26, 273, 276, 489, 73, 430, 209, 114, 231, 500, 199, 115, 140, 472, 309, 125, 464, 104, 387, 206, 308]\n"
     ]
    }
   ],
   "source": [
    "import random\n",
    "random.seed('nictogin')\n",
    "numbers = []\n",
    "for n in range(100):\n",
    "    numbers.append(random.randint(0,500))\n",
    "    \n",
    "print(numbers)  #we can use the seed instead"
   ]
  },
  {
   "cell_type": "code",
   "execution_count": 4,
   "metadata": {},
   "outputs": [
    {
     "name": "stdout",
     "output_type": "stream",
     "text": [
      "7\n"
     ]
    }
   ],
   "source": [
    "#finding an element in this list\n",
    "numbers = [425, 332, 418, 6, 461, 454, 182, 264, 410, 500, 447, 328, 236, 444, 1, 148, 204, 315, 420, 437, 162, 30, 168, 119, 350, 207, 155, 88, 268, 145, 419, 357, 348, 116, 332, 247, 380, 404, 69, 7, 348, 137, 106, 433, 392, 290, 4, 42, 455, 436, 155, 14, 106, 500, 381, 179, 440, 177, 8, 324, 138, 74, 326, 67, 444, 491, 293, 375, 141, 300, 469, 174, 211, 342, 412, 172, 53, 16, 156, 26, 273, 276, 489, 73, 430, 209, 114, 231, 500, 199, 115, 140, 472, 309, 125, 464, 104, 387, 206, 308]\n",
    "\n",
    "numbers.sort() #python use TimSort #O(nlog(n)) #psuedo linear time\n",
    "#now small values is on the left and the large value is on the right\n",
    "#divided from the middle (the binary search is at logarithmic time)\n",
    "\n",
    "counter = 0\n",
    "def binary_search(number_list,num,left,right): #divide and conqure algo for sorted list\n",
    "    global counter\n",
    "    counter+=1\n",
    "    if number_list[0]>number_list[-1]: #detect bug\n",
    "        return -1    \n",
    "    mid = (left+right)//2\n",
    "    #print(mid)\n",
    "    if number_list[mid]==num:\n",
    "        return mid\n",
    "    elif number_list[mid]>num:\n",
    "        return binary_search(number_list,num,left,mid-1)\n",
    "    if number_list[mid]<num:\n",
    "        return binary_search(number_list,num,mid+1,right)\n",
    "\n",
    "    \n",
    "if __name__ == '__main__':\n",
    "    binary_search(numbers,454,0,len(numbers)-1)\n",
    "    print(counter)"
   ]
  },
  {
   "cell_type": "code",
   "execution_count": 5,
   "metadata": {},
   "outputs": [
    {
     "data": {
      "text/plain": [
       "89"
      ]
     },
     "execution_count": 5,
     "metadata": {},
     "output_type": "execute_result"
    }
   ],
   "source": [
    "binary_search(numbers,454,0,len(numbers)-1)"
   ]
  }
 ],
 "metadata": {
  "kernelspec": {
   "display_name": "Python 3",
   "language": "python",
   "name": "python3"
  },
  "language_info": {
   "codemirror_mode": {
    "name": "ipython",
    "version": 3
   },
   "file_extension": ".py",
   "mimetype": "text/x-python",
   "name": "python",
   "nbconvert_exporter": "python",
   "pygments_lexer": "ipython3",
   "version": "3.8.5"
  }
 },
 "nbformat": 4,
 "nbformat_minor": 4
}
