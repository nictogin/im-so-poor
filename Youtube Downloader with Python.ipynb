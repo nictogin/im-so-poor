{
 "cells": [
  {
   "cell_type": "code",
   "execution_count": null,
   "id": "caae56ab",
   "metadata": {},
   "outputs": [],
   "source": [
    "from pytube import YouTube\n",
    "\n",
    "link = input(\"Enter the URL: \")\n",
    "yt = YouTube(link)\n",
    "videos = yt.streams.all() #stream all the formats avaliable for the video\n",
    "\n",
    "video = list(enumerate(videos)) #index all the format in list starting with zero\n",
    "\n",
    "for i in video:\n",
    "    print(i) #print al avaliable format of video with proper index\n",
    "    \n",
    "print(\"enter the desired option to download the format\")\n",
    "dn_option = int(input(\"Enter the option: \"))\n",
    "\n",
    "dn_video = videos[dn_option]\n",
    "dn_video.download()\n",
    "\n",
    "print(\"Downloaded Sucessfully!\")"
   ]
  }
 ],
 "metadata": {
  "kernelspec": {
   "display_name": "Python 3 (ipykernel)",
   "language": "python",
   "name": "python3"
  },
  "language_info": {
   "codemirror_mode": {
    "name": "ipython",
    "version": 3
   },
   "file_extension": ".py",
   "mimetype": "text/x-python",
   "name": "python",
   "nbconvert_exporter": "python",
   "pygments_lexer": "ipython3",
   "version": "3.8.12"
  }
 },
 "nbformat": 4,
 "nbformat_minor": 5
}
