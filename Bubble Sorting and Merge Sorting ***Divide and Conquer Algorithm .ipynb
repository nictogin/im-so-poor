{
 "cells": [
  {
   "cell_type": "code",
   "execution_count": null,
   "metadata": {},
   "outputs": [],
   "source": [
    "'''\n",
    "Sorting - Implement two types of sorting algorithms: Merge sort and bubble sort.\n",
    "'''"
   ]
  },
  {
   "cell_type": "code",
   "execution_count": null,
   "metadata": {},
   "outputs": [],
   "source": [
    "'''\n",
    "***Divide and Conquer Algorithm | Introduction (MOST IMPORTANT!) | ****RECURSION******\n",
    "https://www.geeksforgeeks.org/divide-and-conquer-algorithm-introduction/\n",
    "Bubble Sorting (Easy)\n",
    "https://www.geeksforgeeks.org/bubble-sort/\n",
    "***Merge Sort | Example!!!\n",
    "https://www.geeksforgeeks.org/merge-sort/\n"
   ]
  },
  {
   "cell_type": "code",
   "execution_count": 25,
   "metadata": {},
   "outputs": [],
   "source": [
    "def bubblesort(arr):    #I am so bad at these algorithms\n",
    "    moved = True\n",
    "    step = 0\n",
    "    ## A funny situation, while True: False, then if one happens it became true, then go back to the while lol\n",
    "    while moved == True:   \n",
    "        moved = False\n",
    "        for n in range(len(arr)-1):\n",
    "            if arr[n]>arr[n+1]:\n",
    "                arr[n],arr[n+1] = arr[n+1],arr[n]\n",
    "                moved = True\n",
    "                step += 1\n",
    "            else:\n",
    "                pass\n",
    "\n",
    "    return str(arr) + ' It takes {} step'.format(step)"
   ]
  },
  {
   "cell_type": "code",
   "execution_count": 26,
   "metadata": {},
   "outputs": [
    {
     "data": {
      "text/plain": [
       "'[11, 12, 22, 25, 34, 64, 90] It takes 14 step'"
      ]
     },
     "execution_count": 26,
     "metadata": {},
     "output_type": "execute_result"
    }
   ],
   "source": [
    "bubblesort([64, 34, 25, 12, 22, 11, 90])"
   ]
  },
  {
   "cell_type": "code",
   "execution_count": 48,
   "metadata": {
    "scrolled": true
   },
   "outputs": [
    {
     "data": {
      "text/plain": [
       "[11, 25, 64, 34, 12, 22, 90]"
      ]
     },
     "execution_count": 48,
     "metadata": {},
     "output_type": "execute_result"
    }
   ],
   "source": [
    "#we assume the assumption is correct LOL\n",
    "def mergesort(arr):\n",
    "    if len(arr) > 1:   ####********when len = 1 it will \n",
    "        mid_pt = int(len(arr)/2)\n",
    "        first_half = arr[:mid_pt]\n",
    "        second_half = arr[mid_pt:]\n",
    "\n",
    "        mergesort(first_half)\n",
    "        mergesort(second_half)\n",
    "\n",
    "        i = j = k = 0\n",
    "\n",
    "        while len(first_half)>i and len(second_half)>j:\n",
    "            if first_half[i]<second_half[j]:\n",
    "                arr[k] = first_half[i]\n",
    "                i+=1\n",
    "            else:\n",
    "                arr[k] = second_half[j]\n",
    "                j+=1\n",
    "            k+=1\n",
    "\n",
    "        # Checking if any element was left\n",
    "            while i < len(first_half):\n",
    "                arr[k] = first_half[i]\n",
    "                i += 1\n",
    "                k += 1\n",
    "\n",
    "            while j < len(second_half):\n",
    "                arr[k] = second_half[j]\n",
    "                j += 1\n",
    "                k += 1\n",
    "\n",
    "            return arr\n",
    "    \n",
    "    \n",
    "\n",
    "mergesort([64, 34, 25, 12, 22, 11, 90])\n",
    "        \n",
    "        "
   ]
  },
  {
   "cell_type": "code",
   "execution_count": 13,
   "metadata": {},
   "outputs": [
    {
     "data": {
      "text/plain": [
       "3"
      ]
     },
     "execution_count": 13,
     "metadata": {},
     "output_type": "execute_result"
    }
   ],
   "source": [
    "import math\n",
    "math.ceil(math.log(7,2))"
   ]
  },
  {
   "cell_type": "code",
   "execution_count": 46,
   "metadata": {},
   "outputs": [
    {
     "data": {
      "text/plain": [
       "[11, 12, 22, 25, 34, 64, 90]"
      ]
     },
     "execution_count": 46,
     "metadata": {},
     "output_type": "execute_result"
    }
   ],
   "source": [
    "# Python program for implementation of MergeSort\n",
    "def mergeSort(arr):\n",
    "    if len(arr) > 1:\n",
    " \n",
    "         # Finding the mid of the array\n",
    "        mid = len(arr)//2\n",
    " \n",
    "        # Dividing the array elements\n",
    "        L = arr[:mid]\n",
    " \n",
    "        # into 2 halves\n",
    "        R = arr[mid:]\n",
    " \n",
    "        # Sorting the first half\n",
    "        mergeSort(L)\n",
    " \n",
    "        # Sorting the second half\n",
    "        mergeSort(R)\n",
    " \n",
    "        i = j = k = 0\n",
    " \n",
    "        # Copy data to temp arrays L[] and R[]\n",
    "        while i < len(L) and j < len(R):\n",
    "            if L[i] < R[j]:\n",
    "                arr[k] = L[i]\n",
    "                i += 1\n",
    "            else:\n",
    "                arr[k] = R[j]\n",
    "                j += 1\n",
    "            k += 1\n",
    " \n",
    "        # Checking if any element was left\n",
    "        while i < len(L):\n",
    "            arr[k] = L[i]\n",
    "            i += 1\n",
    "            k += 1\n",
    " \n",
    "        while j < len(R):\n",
    "            arr[k] = R[j]\n",
    "            j += 1\n",
    "            k += 1\n",
    " \n",
    "        return arr\n",
    "mergeSort([64, 34, 25, 12, 22, 11, 90])"
   ]
  },
  {
   "cell_type": "code",
   "execution_count": 37,
   "metadata": {},
   "outputs": [
    {
     "name": "stdout",
     "output_type": "stream",
     "text": [
      "7\n"
     ]
    }
   ],
   "source": [
    "#for n in range(math.ceil(len(arr)/2)):\n",
    "\n",
    "print(len([64, 34, 25, 12, 22, 11, 90]))\n",
    "    \n",
    "    "
   ]
  },
  {
   "cell_type": "code",
   "execution_count": null,
   "metadata": {},
   "outputs": [],
   "source": []
  }
 ],
 "metadata": {
  "kernelspec": {
   "display_name": "Python 3",
   "language": "python",
   "name": "python3"
  },
  "language_info": {
   "codemirror_mode": {
    "name": "ipython",
    "version": 3
   },
   "file_extension": ".py",
   "mimetype": "text/x-python",
   "name": "python",
   "nbconvert_exporter": "python",
   "pygments_lexer": "ipython3",
   "version": "3.8.5"
  }
 },
 "nbformat": 4,
 "nbformat_minor": 4
}
