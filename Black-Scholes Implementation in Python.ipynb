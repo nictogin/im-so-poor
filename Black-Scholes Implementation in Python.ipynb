{
 "cells": [
  {
   "cell_type": "code",
   "execution_count": 1,
   "id": "fe62f2e8",
   "metadata": {},
   "outputs": [
    {
     "name": "stdout",
     "output_type": "stream",
     "text": [
      "Option Price is:  0.58\n",
      "Option Price is:  20.12\n"
     ]
    }
   ],
   "source": [
    "import numpy as np\n",
    "from scipy.stats import norm\n",
    "\n",
    "# define variables\n",
    "r = 0.01         # risk-free interest rate\n",
    "S = 50           # the price of the option as a function of the underlying asset S (at time t)\n",
    "K = 70           # strike price/exercise price of the option\n",
    "T = 240/365      # time until option expirations in years (T-t)\n",
    "sigma = 0.30     # the standard deviation or Std of the stock's (log) returns\n",
    "\n",
    "def blackScholes(r,S,K,T,sigma, type='C'):\n",
    "    #Calculate BS option price for a call/put\n",
    "    d1 = (np.log(S/K)+(r+(sigma**2)/2)*T)/(sigma*np.sqrt(T))\n",
    "    d2 = d1 - sigma*np.sqrt(T)\n",
    "    try:\n",
    "        if type == 'C':\n",
    "            price = S*norm.cdf(d1,0,1) - K*np.exp(-r*T)*norm.cdf(d2,0,1) #cummulative distribution function of normal distribution\n",
    "        elif type == 'P':\n",
    "            price = K*np.exp(-r*T)*norm.cdf(-d2,0,1) - S*norm.cdf(-d1,0,1)\n",
    "        return price\n",
    "    except:\n",
    "        print(\"Please check the variables\")\n",
    "        \n",
    "print(\"Option Price is: \", round(blackScholes(r,S,K,T,sigma,type='C'),2))\n",
    "print(\"Option Price is: \", round(blackScholes(r,S,K,T,sigma,type='P'),2))"
   ]
  }
 ],
 "metadata": {
  "kernelspec": {
   "display_name": "Python 3 (ipykernel)",
   "language": "python",
   "name": "python3"
  },
  "language_info": {
   "codemirror_mode": {
    "name": "ipython",
    "version": 3
   },
   "file_extension": ".py",
   "mimetype": "text/x-python",
   "name": "python",
   "nbconvert_exporter": "python",
   "pygments_lexer": "ipython3",
   "version": "3.8.12"
  }
 },
 "nbformat": 4,
 "nbformat_minor": 5
}
