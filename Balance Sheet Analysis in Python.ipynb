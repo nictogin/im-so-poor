{
 "cells": [
  {
   "cell_type": "code",
   "execution_count": 21,
   "metadata": {},
   "outputs": [
    {
     "name": "stdout",
     "output_type": "stream",
     "text": [
      "Total current assets of FB: 75,670,000,000\n"
     ]
    }
   ],
   "source": [
    "#use the api to go on the URL and obtain the json file which includes the company infomation (silmilar to web scrapping)\n",
    "from pip._vendor import requests\n",
    "import matplotlib.pyplot as plt\n",
    "\n",
    "api_key = '89e2785e085a7d875c3518a58579cfa7'\n",
    "company = \"FB\" #interested company\n",
    "years = 5 #2 years of data\n",
    "#load the balance sheet\n",
    "balance_sheet = requests.get(f'https://financialmodelingprep.com/api/v3/balance-sheet-statement/{company}?limit={years}&apikey={api_key}') \n",
    "balance_sheet = balance_sheet.json()\n",
    "total_current_asset = balance_sheet[0]['totalCurrentAssets'] #most recent value\n",
    "#print(balance_sheet[0].keys()) #print dictionary keys\n",
    "print(f'Total current assets of {company}: {total_current_asset:,}') #:, thousands seperator"
   ]
  },
  {
   "cell_type": "code",
   "execution_count": 22,
   "metadata": {},
   "outputs": [
    {
     "name": "stdout",
     "output_type": "stream",
     "text": [
      "pct: 12.35\n"
     ]
    }
   ],
   "source": [
    "goodwill_and_intangibles = balance_sheet[0]['goodwillAndIntangibleAssets']\n",
    "total_assets = balance_sheet[0]['totalAssets']\n",
    "pct_intangible = goodwill_and_intangibles / total_assets\n",
    "print(f\"pct: {pct_intangible*100:.2f}\")"
   ]
  },
  {
   "cell_type": "markdown",
   "metadata": {},
   "source": [
    "https://www.youtube.com/watch?v=gBTGnzC-70g\n",
    "\n",
    "https://financialmodelingprep.com/developer/docs/"
   ]
  },
  {
   "cell_type": "code",
   "execution_count": 23,
   "metadata": {},
   "outputs": [
    {
     "data": {
      "text/plain": [
       "([<matplotlib.axis.XTick at 0x7f920aebe5b0>,\n",
       "  <matplotlib.axis.XTick at 0x7f920aebeac0>,\n",
       "  <matplotlib.axis.XTick at 0x7f920aea22e0>,\n",
       "  <matplotlib.axis.XTick at 0x7f920b5ab490>],\n",
       " [Text(1, 0, 'q1'), Text(2, 0, 'q2'), Text(3, 0, 'q3'), Text(4, 0, 'q4')])"
      ]
     },
     "execution_count": 23,
     "metadata": {},
     "output_type": "execute_result"
    },
    {
     "data": {
      "image/png": "[encoded data removed]",
      "text/plain": [
       "<Figure size 432x288 with 1 Axes>"
      ]
     },
     "metadata": {
      "needs_background": "light"
     },
     "output_type": "display_data"
    }
   ],
   "source": [
    "#quarterly data\n",
    "balance_sheet = requests.get(f'https://financialmodelingprep.com/api/v3/balance-sheet-statement/{company}?period=quarterly&limit={years}&apikey={api_key}')\n",
    "balance_sheet = balance_sheet.json()\n",
    "assets_q1 = balance_sheet[4]['totalAssets']\n",
    "assets_q2 = balance_sheet[3]['totalAssets']\n",
    "assets_q3 = balance_sheet[2]['totalAssets']\n",
    "assets_q4 = balance_sheet[1]['totalAssets']\n",
    "\n",
    "assets_data = [assets_q1,assets_q2,assets_q3,assets_q4]\n",
    "plt.bar([1,2,3,4],assets_data)\n",
    "plt.title(f\"Quarterly assets of {company}\")\n",
    "plt.xlabel(\"Quarter\")\n",
    "plt.ylabel(\"Assets\")\n",
    "plt.xticks([1,2,3,4],['q1','q2','q3','q4'])\n",
    "\n"
   ]
  }
 ],
 "metadata": {
  "kernelspec": {
   "display_name": "Python 3",
   "language": "python",
   "name": "python3"
  },
  "language_info": {
   "codemirror_mode": {
    "name": "ipython",
    "version": 3
   },
   "file_extension": ".py",
   "mimetype": "text/x-python",
   "name": "python",
   "nbconvert_exporter": "python",
   "pygments_lexer": "ipython3",
   "version": "3.8.5"
  }
 },
 "nbformat": 4,
 "nbformat_minor": 4
}
