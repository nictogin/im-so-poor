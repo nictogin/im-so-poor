{
 "cells": [
  {
   "cell_type": "code",
   "execution_count": 1,
   "metadata": {},
   "outputs": [
    {
     "name": "stdout",
     "output_type": "stream",
     "text": [
      "\u001b[31mHello World\n",
      "\u001b[32mHello World\n",
      "\u001b[41mHello World\n"
     ]
    }
   ],
   "source": [
    "#工具箱~工具箱~小小的工具箱~~\n",
    "import colorama\n",
    "from colorama import Back, Fore, Style\n",
    "\n",
    "#colorama.init() #initiation #\n",
    "\n",
    "print(Fore.RED+'Hello World')\n",
    "print(Fore.GREEN+'Hello World')\n",
    "print(Back.RED+'Hello World')"
   ]
  },
  {
   "cell_type": "code",
   "execution_count": 2,
   "metadata": {},
   "outputs": [
    {
     "name": "stdout",
     "output_type": "stream",
     "text": [
      "\u001b[31mH\u001b[33mE\u001b[32mL\u001b[34mL\u001b[35mO\n",
      "\u001b[31mW\u001b[33mO\u001b[32mR\u001b[34mL\u001b[35mD\n"
     ]
    }
   ],
   "source": [
    "print(f'{Fore.RED}H{Fore.YELLOW}E{Fore.GREEN}L{Fore.BLUE}L{Fore.MAGENTA}O')\n",
    "print(f'{Fore.RED}W{Fore.YELLOW}O{Fore.GREEN}R{Fore.BLUE}L{Fore.MAGENTA}D')"
   ]
  },
  {
   "cell_type": "code",
   "execution_count": 3,
   "metadata": {},
   "outputs": [
    {
     "name": "stdout",
     "output_type": "stream",
     "text": [
      "\u001b[31m\u001b[43m\u001b[1mHELLOWORLD\n",
      "\u001b[31m\u001b[43m\u001b[22mHELLOWORLD\n",
      "\u001b[31m\u001b[43m\u001b[2mHELLOWORLD\n"
     ]
    }
   ],
   "source": [
    "print(f'{Fore.RED}{Back.YELLOW}{Style.BRIGHT}HELLOWORLD')\n",
    "print(f'{Fore.RED}{Back.YELLOW}{Style.NORMAL}HELLOWORLD')\n",
    "print(f'{Fore.RED}{Back.YELLOW}{Style.DIM}HELLOWORLD')"
   ]
  },
  {
   "cell_type": "code",
   "execution_count": 4,
   "metadata": {},
   "outputs": [
    {
     "name": "stdout",
     "output_type": "stream",
     "text": [
      "Hello World\n",
      "Hello World\n",
      "Hello World\n"
     ]
    }
   ],
   "source": [
    "import colorama\n",
    "from colorama import Back, Fore, Style\n",
    "\n",
    "colorama.init(autoreset=True) #initiation #you need it when you run it on terminal(?)\n",
    "\n",
    "print(Fore.RED+'Hello World')\n",
    "print(Back.RED+\"Hello World\")  #autoreset to the default everytime after the command\n",
    "print(Fore.GREEN+'Hello World')"
   ]
  }
 ],
 "metadata": {
  "kernelspec": {
   "display_name": "Python 3",
   "language": "python",
   "name": "python3"
  },
  "language_info": {
   "codemirror_mode": {
    "name": "ipython",
    "version": 3
   },
   "file_extension": ".py",
   "mimetype": "text/x-python",
   "name": "python",
   "nbconvert_exporter": "python",
   "pygments_lexer": "ipython3",
   "version": "3.8.5"
  }
 },
 "nbformat": 4,
 "nbformat_minor": 4
}
