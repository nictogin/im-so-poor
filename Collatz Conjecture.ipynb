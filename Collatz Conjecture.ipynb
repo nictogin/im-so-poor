{
 "cells": [
  {
   "cell_type": "code",
   "execution_count": 1,
   "metadata": {
    "collapsed": true
   },
   "outputs": [
    {
     "data": {
      "text/plain": [
       "'\\nCollatz Conjecture \\n- Start with a number n > 1. Find the number of steps it takes to reach one using the following process:\\nIf n is even, divide it by 2. If n is odd, multiply it by 3 and add 1.\\n'"
      ]
     },
     "execution_count": 1,
     "metadata": {},
     "output_type": "execute_result"
    }
   ],
   "source": [
    "'''\n",
    "Collatz Conjecture \n",
    "- Start with a number n > 1. Find the number of steps it takes to reach one using the following process:\n",
    "If n is even, divide it by 2. If n is odd, multiply it by 3 and add 1.\n",
    "'''"
   ]
  },
  {
   "cell_type": "code",
   "execution_count": 1,
   "metadata": {},
   "outputs": [],
   "source": [
    "def CollatzConj(x):\n",
    "    import time\n",
    "    if not isinstance(x,int):\n",
    "        return 'Error! please enter a integer'\n",
    "    steps = 0\n",
    "    even_step = 0\n",
    "    odd_step = 0\n",
    "    procedure = list()\n",
    "\n",
    "    start_time = time.time()\n",
    "\n",
    "    while int(x) != 1:\n",
    "        if x<1:\n",
    "            x = 1\n",
    "            print('please enter a positive integer')\n",
    "            break\n",
    "    ### the arithmetic operator will return float   \n",
    "        if int(x)%2 == 1:\n",
    "            x *= 3\n",
    "            x += 1\n",
    "            steps +=1\n",
    "            odd_step += 1\n",
    "            procedure.append('O')\n",
    "\n",
    "        if int(x)%2 == 0:\n",
    "            x /= 2\n",
    "            steps += 1\n",
    "            even_step += 1\n",
    "            procedure.append('E')\n",
    "\n",
    "    end_time = time.time() - start_time\n",
    "    print('The number of step used: '+ str(steps))\n",
    "    print('The number of \"even step\" used: '+ str(even_step))\n",
    "    print('The number of \"odd step\" used: '+ str(odd_step))\n",
    "    print('The total time used: '+ str(end_time))\n",
    "    print('The order of move: '+ str(''.join(procedure)))"
   ]
  },
  {
   "cell_type": "code",
   "execution_count": 2,
   "metadata": {},
   "outputs": [
    {
     "data": {
      "text/plain": [
       "'Error! please enter a integer'"
      ]
     },
     "execution_count": 2,
     "metadata": {},
     "output_type": "execute_result"
    }
   ],
   "source": [
    "CollatzConj('sajdkb')"
   ]
  },
  {
   "cell_type": "code",
   "execution_count": 3,
   "metadata": {},
   "outputs": [
    {
     "name": "stdout",
     "output_type": "stream",
     "text": [
      "The number of step used: 619\n",
      "The number of \"even step\" used: 424\n",
      "The number of \"odd step\" used: 195\n",
      "The total time used: 0.0003838539123535156\n",
      "The order of move: EEEEEEEEEEEEEEEEEEEEEEEEEEEEEEEEEEEEEEEEEEEEEEEEEEEEEEEEEEEEEEEEOEOEOEEOEEEEEOEEOEEOEEOEEOEOEOEOEEOEEOEOEEOEOEEOEOEOEOEOEEOEOEOEEOEEEEOEOEEEOEOEEOEEOEOEEOEEEOEOEOEEOEOEOEOEOEEOEEOEOEOEOEOEOEOEOEEEOEEOEOEOEOEEEEOEEOEEEOEOEOEOEEEOEEOEOEOEEEEEOEOEOEEEEOEEOEOEOEEEOEOEOEEOEOEOEOEOEOEEEOEEOEEEOEEOEEOEEEOEEOEEOEOEOEEOEEOEEEEOEOEOEOEOEOEOEOEEOEEOEOEOEEEOEOEEOEOEOEEOEEOEEEEEEEOEOEOEOEEEEEOEEEOEEOEOEEEOEEOEOEOEOEEEEEEEOEOEOEEEOEEOEOEEOEEEOEEEOEEOEEOEEOEEOEEEEEEOEEOEEOEEEOEOEEEOEOEOEOEEOEEEEOEOEEEEOEEOEOEOEOEOEOEOEOEEOEOEEOEOEEEOEOEEEEOEEEEEOEOEEOEEOEOEOEEOEOEEEEOEEOEOEEOEOEEOEEOEEOEOEOEOEEEEEEOEOEEOEEOEEEEOEOEOEEOEEEOEEEE\n"
     ]
    }
   ],
   "source": [
    "CollatzConj(31674829562056206203309824749032948)"
   ]
  },
  {
   "cell_type": "code",
   "execution_count": null,
   "metadata": {},
   "outputs": [],
   "source": []
  }
 ],
 "metadata": {
  "kernelspec": {
   "display_name": "Python 3",
   "language": "python",
   "name": "python3"
  },
  "language_info": {
   "codemirror_mode": {
    "name": "ipython",
    "version": 3
   },
   "file_extension": ".py",
   "mimetype": "text/x-python",
   "name": "python",
   "nbconvert_exporter": "python",
   "pygments_lexer": "ipython3",
   "version": "3.8.5"
  }
 },
 "nbformat": 4,
 "nbformat_minor": 4
}
