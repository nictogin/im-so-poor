{
 "cells": [
  {
   "cell_type": "code",
   "execution_count": 1,
   "metadata": {},
   "outputs": [
    {
     "name": "stdout",
     "output_type": "stream",
     "text": [
      "Please enter wordings that you wanna encode: I am so Fucking poor.\n",
      "X pc ie Ukraxdv feeh.\n"
     ]
    }
   ],
   "source": [
    "#Encode\n",
    "import string\n",
    "import random\n",
    "lower = string.ascii_lowercase\n",
    "upper = string.ascii_uppercase\n",
    "encoded = list()\n",
    "words = list(input(\"Please enter wordings that you wanna encode: \"))\n",
    "\n",
    "key = random.randint(0,100)%26\n",
    "while key == 0:\n",
    "    key = random.randint(0,100)%26\n",
    "# I guess in real life we have to send this key to the decoder lol\n",
    "\n",
    "for n in range(len(words)):\n",
    "    if words[n] in lower:\n",
    "        x = ((lower.find(words[n])+key)%25)\n",
    "        encoded.append(str(lower[x]))\n",
    "\n",
    "    if words[n] in upper:\n",
    "        x = ((upper.find(words[n])+key)%25)\n",
    "        encoded.append(str(upper[x]))\n",
    "\n",
    "    if words[n] not in upper and words[n] not in lower:\n",
    "        encoded.append(str(words[n]))\n",
    "\n",
    "encoded_words = ''.join(encoded)\n",
    "print(encoded_words)\n"
   ]
  },
  {
   "cell_type": "code",
   "execution_count": 2,
   "metadata": {},
   "outputs": [
    {
     "name": "stdout",
     "output_type": "stream",
     "text": [
      "I am so Fucking poor.\n"
     ]
    }
   ],
   "source": [
    "#Decode\n",
    "import string\n",
    "decoded = list()\n",
    "for n in range(len(encoded_words)):\n",
    "    if encoded_words[n] in lower:\n",
    "        x = ((lower.find(encoded_words[n])-key)%25)\n",
    "        decoded.append(str(lower[x]))\n",
    "        pass\n",
    "    if encoded_words[n] in upper:\n",
    "        x = ((upper.find(encoded_words[n])-key)%25)\n",
    "        decoded.append(str(upper[x]))\n",
    "        pass\n",
    "    if encoded_words[n] not in upper and encoded_words[n] not in lower:\n",
    "        decoded.append(str(encoded_words[n]))\n",
    "        pass\n",
    "decoded_words = ''.join(decoded)\n",
    "print(decoded_words)"
   ]
  }
 ],
 "metadata": {
  "kernelspec": {
   "display_name": "Python 3",
   "language": "python",
   "name": "python3"
  },
  "language_info": {
   "codemirror_mode": {
    "name": "ipython",
    "version": 3
   },
   "file_extension": ".py",
   "mimetype": "text/x-python",
   "name": "python",
   "nbconvert_exporter": "python",
   "pygments_lexer": "ipython3",
   "version": "3.8.5"
  }
 },
 "nbformat": 4,
 "nbformat_minor": 4
}
