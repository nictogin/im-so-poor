{
 "cells": [
  {
   "cell_type": "code",
   "execution_count": 1,
   "metadata": {},
   "outputs": [],
   "source": [
    "#Have learnt what is K-Nearest neighbour classification already, just try to do it from scratch\n",
    "import numpy as np\n",
    "import matplotlib.pyplot as plt\n",
    "from collections import Counter\n",
    "\n",
    "points = {'blue': [[2,4], [1,3], [2,3], [3,2], [2,1]],\n",
    "          'orange': [[5,6], [4,5], [4,6], [6,6], [5,4]]}\n",
    "\n",
    "new_point = [3,3]\n",
    "\n",
    "#To now build a K-Neighbors classifier, we will create a new class.This class will have a value set \n",
    "#for k and also a method for training the model and predicting classes for new points.\n",
    "\n",
    "class K_Nearest_Neighbors: \n",
    "\n",
    "    def __init__(self, k=3):  #set a default value of k (no. of neighbours)\n",
    "        self.k = k\n",
    "\n",
    "    def fit(self, points):\n",
    "        self.points = points\n",
    "        \n",
    "    def euclidean_distance(self, p, q):\n",
    "        return np.sqrt(np.sum(np.array(p) - np.array(q)) ** 2)\n",
    "\n",
    "    def predict(self, new_point):\n",
    "        distances = []\n",
    "\n",
    "        for category in self.points:\n",
    "            for point in self.points[category]:  #get the points that are classified\n",
    "                distance = self.euclidean_distance(point, new_point) #find their distance with the new point\n",
    "                distances.append([distance, category])\n",
    "\n",
    "        categories = [category[1] for category in sorted(distances)[:self.k]] #find the closest 3 point in distance and determine their class (category[1])\n",
    "        result = Counter(categories).most_common(1)[0][0] #count how many classes, so k have to be an odd number when there are only two classes\n",
    "        return result\n"
   ]
  },
  {
   "cell_type": "code",
   "execution_count": 2,
   "metadata": {},
   "outputs": [
    {
     "name": "stdout",
     "output_type": "stream",
     "text": [
      "blue\n"
     ]
    }
   ],
   "source": [
    "clf = K_Nearest_Neighbors(k=3)\n",
    "clf.fit(points)\n",
    "print(clf.predict(new_point))"
   ]
  },
  {
   "cell_type": "code",
   "execution_count": 6,
   "metadata": {},
   "outputs": [
    {
     "data": {
      "image/png": "[encoded data removed]",
      "text/plain": [
       "<Figure size 432x288 with 1 Axes>"
      ]
     },
     "metadata": {
      "needs_background": "light"
     },
     "output_type": "display_data"
    }
   ],
   "source": [
    "#Visualization and Plotting\n",
    "\n",
    "ax = plt.subplot()\n",
    "ax.grid(True, color='grey')\n",
    "\n",
    "ax.tick_params(axis='x', colors='black')\n",
    "ax.tick_params(axis='y', colors='black')\n",
    "\n",
    "[ax.scatter(point[0], point[1], color='#104DCA', s=60) for point in points['blue']]\n",
    "[ax.scatter(point[0], point[1], color='#EF6C35', s=60) for point in points['orange']]\n",
    "\n",
    "new_class = clf.predict(new_point)\n",
    "color = '#EF6C35' if new_class == 'orange' else '#104DCA'\n",
    "ax.scatter(new_point[0], new_point[1], color=color, marker='*', s=200, zorder=100)\n",
    "\n",
    "[ax.plot([new_point[0], point[0]], [new_point[1], point[1]], color='#104DCA', linestyle='--', linewidth=1) for point in points['blue']]\n",
    "[ax.plot([new_point[0], point[0]], [new_point[1], point[1]], color='#EF6C35', linestyle='--', linewidth=1) for point in points['orange']]\n",
    "\n",
    "plt.show()"
   ]
  }
 ],
 "metadata": {
  "kernelspec": {
   "display_name": "Python 3",
   "language": "python",
   "name": "python3"
  },
  "language_info": {
   "codemirror_mode": {
    "name": "ipython",
    "version": 3
   },
   "file_extension": ".py",
   "mimetype": "text/x-python",
   "name": "python",
   "nbconvert_exporter": "python",
   "pygments_lexer": "ipython3",
   "version": "3.8.5"
  }
 },
 "nbformat": 4,
 "nbformat_minor": 4
}
