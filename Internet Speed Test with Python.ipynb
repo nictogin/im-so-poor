{
 "cells": [
  {
   "cell_type": "code",
   "execution_count": 1,
   "metadata": {},
   "outputs": [
    {
     "name": "stdout",
     "output_type": "stream",
     "text": [
      "loading server list...\n",
      "choosing best server...\n",
      "Found: speedtest.inovedia.com:8080 located in United Kingdom\n",
      "Performing download test...\n",
      "Performing upload test...\n",
      "Download speed: 101.19 MB/s\n",
      "Upload speed: 20.16 MB/s\n",
      "Ping: 19.31 ms\n"
     ]
    }
   ],
   "source": [
    "#pip install speedtest-cli  (cli stands for comment line)\n",
    "import speedtest\n",
    "\n",
    "test = speedtest.Speedtest() #speed test object\n",
    "\n",
    "print('loading server list...')\n",
    "test.get_servers() #get a list of servers avaliable for speed test\n",
    "print('choosing best server...')\n",
    "best = test.get_best_server() #choose best server #returning a JSON/dictionary\n",
    "print(f'Found: {best[\"host\"]} located in {best[\"country\"]}')\n",
    "\n",
    "print('Performing download test...')\n",
    "download_result = test.download() #bit/s\n",
    "print('Performing upload test...')\n",
    "upload_result = test.upload() #bit/s\n",
    "ping_result = test.results.ping #ms\n",
    "print(f'Download speed: {download_result/1024/1024:.2f} MB/s')\n",
    "print(f'Upload speed: {upload_result/1024/1024:.2f} MB/s')\n",
    "print(f'Ping: {ping_result:.2f} ms')"
   ]
  },
  {
   "cell_type": "code",
   "execution_count": 2,
   "metadata": {},
   "outputs": [
    {
     "name": "stdout",
     "output_type": "stream",
     "text": [
      "{'url': 'http://speedtest.thn.lon.network.as201838.net:8080/speedtest/upload.php', 'lat': '51.5171', 'lon': '-0.1062', 'name': 'London', 'country': 'United Kingdom', 'cc': 'GB', 'sponsor': 'Community Fibre Limited', 'id': '30690', 'host': 'speedtest.thn.lon.network.as201838.net:8080', 'd': 11.351651664309534, 'latency': 20.005}\n"
     ]
    }
   ],
   "source": [
    "test.get_servers()\n",
    "best = test.get_best_server()\n",
    "print(best)"
   ]
  }
 ],
 "metadata": {
  "kernelspec": {
   "display_name": "Python 3",
   "language": "python",
   "name": "python3"
  },
  "language_info": {
   "codemirror_mode": {
    "name": "ipython",
    "version": 3
   },
   "file_extension": ".py",
   "mimetype": "text/x-python",
   "name": "python",
   "nbconvert_exporter": "python",
   "pygments_lexer": "ipython3",
   "version": "3.8.5"
  }
 },
 "nbformat": 4,
 "nbformat_minor": 4
}
