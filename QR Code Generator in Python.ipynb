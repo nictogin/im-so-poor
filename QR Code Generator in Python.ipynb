{
 "cells": [
  {
   "cell_type": "code",
   "execution_count": 1,
   "metadata": {},
   "outputs": [
    {
     "data": {
      "image/png": "[encoded data removed]",
      "text/plain": [
       "<PIL.PngImagePlugin.PngImageFile image mode=1 size=330x330 at 0x7FA2F7945220>"
      ]
     },
     "execution_count": 1,
     "metadata": {},
     "output_type": "execute_result"
    }
   ],
   "source": [
    "import qrcode\n",
    "from PIL import Image\n",
    "\n",
    "img = qrcode.make('Hey I always love you')\n",
    "img.save('love.png')\n",
    "\n",
    "qr = Image.open('love.png')\n",
    "#qr.show()\n",
    "qr"
   ]
  },
  {
   "cell_type": "code",
   "execution_count": 2,
   "metadata": {},
   "outputs": [
    {
     "data": {
      "image/png": "[encoded data removed]",
      "text/plain": [
       "<PIL.PngImagePlugin.PngImageFile image mode=1 size=165x165 at 0x7FA2F76698B0>"
      ]
     },
     "execution_count": 2,
     "metadata": {},
     "output_type": "execute_result"
    }
   ],
   "source": [
    "#just find it in documentations, don't need to know what it exactly means lol\n",
    "#Create a qrcode object\n",
    "qr = qrcode.QRCode(version=1, error_correction=qrcode.constants.ERROR_CORRECT_L, box_size=5, border=2)\n",
    "\n",
    "qr.add_data(\"https://github.com/nictogin/im-so-poor\")\n",
    "qr.make(fit=True)\n",
    "#fit = True, fill_color='black', back_color=\"white\" are default\n",
    "img = qr.make_image(fill_color='black',back_color=\"white\")\n",
    "img.save(\"advanced.png\")\n",
    "\n",
    "kapa = Image.open('advanced.png')\n",
    "#kapa.show()\n",
    "kapa\n",
    "#you can tune the parameters and color to make the output you want"
   ]
  },
  {
   "cell_type": "code",
   "execution_count": 3,
   "metadata": {},
   "outputs": [],
   "source": [
    "#SVG  Vector Graphics\n",
    "import qrcode.image.svg\n",
    "\n",
    "factory = qrcode.image.svg.SvgPathImage   #don't know the difference of different attribute lol\n",
    "svg_image = qrcode.make(\"Hello World\", image_factory=factory)\n",
    "svg_image.save(\"myqr.svg\")\n"
   ]
  },
  {
   "cell_type": "code",
   "execution_count": null,
   "metadata": {},
   "outputs": [],
   "source": [
    "#decode\n",
    "#https://www.youtube.com/watch?v=2QK942FPCw0\n",
    "from pyzbar.pyzbar import decode\n",
    "from PIL import Image\n",
    "\n",
    "d = decode(Image.open('abc.png'))\n",
    "print(d)\n",
    "#print(d[0].data.decode('ascii'))"
   ]
  }
 ],
 "metadata": {
  "kernelspec": {
   "display_name": "Python 3",
   "language": "python",
   "name": "python3"
  },
  "language_info": {
   "codemirror_mode": {
    "name": "ipython",
    "version": 3
   },
   "file_extension": ".py",
   "mimetype": "text/x-python",
   "name": "python",
   "nbconvert_exporter": "python",
   "pygments_lexer": "ipython3",
   "version": "3.8.5"
  }
 },
 "nbformat": 4,
 "nbformat_minor": 4
}
