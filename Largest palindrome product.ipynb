{
 "cells": [
  {
   "cell_type": "code",
   "execution_count": null,
   "metadata": {},
   "outputs": [],
   "source": [
    "'''\n",
    "Euler Project Problem 4\n",
    "\n",
    "A palindromic number reads the same both ways. The largest palindrome made from the product of two 2-digit numbers is 9009 = 91 × 99.\n",
    "\n",
    "Find the largest palindrome made from the product of two 3-digit numbers.\n",
    "'''"
   ]
  },
  {
   "cell_type": "code",
   "execution_count": 5,
   "metadata": {},
   "outputs": [
    {
     "name": "stdout",
     "output_type": "stream",
     "text": [
      "580085\n"
     ]
    }
   ],
   "source": [
    "largest_palindrome=''\n",
    "def reverstr(string):\n",
    "    characters = list(string)\n",
    "    reversed_str = list()\n",
    "    \n",
    "    for n in range(len(string)):\n",
    "        reversed_str.append(characters[-n-1])\n",
    "    return str(''.join(reversed_str))\n",
    "for a in range(100,1000):\n",
    "    for b in range(100,1000):\n",
    "        x = a*b\n",
    "        if reverstr(str(x))==str(x):\n",
    "            largest_palindrome=x\n",
    "        else:\n",
    "            pass\n",
    "print(largest_palindrome)"
   ]
  },
  {
   "cell_type": "code",
   "execution_count": null,
   "metadata": {},
   "outputs": [],
   "source": []
  }
 ],
 "metadata": {
  "kernelspec": {
   "display_name": "Python 3",
   "language": "python",
   "name": "python3"
  },
  "language_info": {
   "codemirror_mode": {
    "name": "ipython",
    "version": 3
   },
   "file_extension": ".py",
   "mimetype": "text/x-python",
   "name": "python",
   "nbconvert_exporter": "python",
   "pygments_lexer": "ipython3",
   "version": "3.8.5"
  }
 },
 "nbformat": 4,
 "nbformat_minor": 4
}
