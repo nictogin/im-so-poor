{
 "cells": [
  {
   "cell_type": "code",
   "execution_count": 1,
   "metadata": {},
   "outputs": [
    {
     "name": "stdout",
     "output_type": "stream",
     "text": [
      "Enter your email: ········\n",
      "Enter your password: ········\n",
      "Enter the email of the recipient: ········\n",
      "Time used = 242.28108596801758, Pages ran through = 12, Total E-mail sent = 100\n",
      "Do you wanna start again? (Yes/No)No\n"
     ]
    }
   ],
   "source": [
    "import bs4\n",
    "import lxml\n",
    "import time\n",
    "import random\n",
    "import smtplib\n",
    "import getpass\n",
    "import requests\n",
    "from email.mime.text import MIMEText\n",
    "from email.mime.multipart import MIMEMultipart\n",
    "#extends the format of email messages to support text in character sets other than ASCII, \n",
    "#as well as attachments of audio, video, images, and application programs.\n",
    "\n",
    "url = 'http://quotes.toscrape.com/page/'\n",
    "page_still_valid = True\n",
    "page = 1\n",
    "counter = 0\n",
    "\n",
    "from_address = getpass.getpass(\"Enter your email: \")\n",
    "password = getpass.getpass(\"Enter your password: \")\n",
    "to_address = getpass.getpass(\"Enter the email of the recipient: \")\n",
    "\n",
    "start_time = time.time()\n",
    "\n",
    "smtp_object = smtplib.SMTP('smtp.gmail.com',587)\n",
    "smtp_object.ehlo()\n",
    "smtp_object.starttls()\n",
    "smtp_object.login(from_address,password)\n",
    "\n",
    "while page_still_valid:\n",
    "\n",
    "    # Concatenate to get new page URL\n",
    "    page_url = url+str(page)\n",
    "    res = requests.get(page_url)\n",
    "    \n",
    "    # Check to see if we're on the last page\n",
    "    if \"No quotes found!\" in res.text:\n",
    "        page_still_valid = False\n",
    "    \n",
    "    soup = bs4.BeautifulSoup(res.text,'lxml')\n",
    "    \n",
    "    # Add Authors and Quotes to our list\n",
    "    authors = list()\n",
    "    quotes = list()\n",
    "    \n",
    "    for name in soup.select(\".author\"):\n",
    "        authors.append(name.text)\n",
    "        \n",
    "    for quote in soup.select(\".text\"):\n",
    "        quotes.append(quote.text)\n",
    "    \n",
    "    for a in range(len(authors)):\n",
    "        subject = str(authors[a])\n",
    "        message = str(quotes[a])\n",
    "        text = \"Subject: \" + subject + '\\n' + message\n",
    "        msg = MIMEMultipart()\n",
    "        msg['From'] = from_address      ###any quickier way? It feels like it is limited by the scope\n",
    "        msg['To'] = to_address\n",
    "        msg['Subject'] = subject + str(random.randint(0,100)) #to prevent same subject for same author\n",
    "        msg.attach(MIMEText(text, 'plain'))\n",
    "        message = msg.as_string()\n",
    "    \n",
    "        smtp_object.sendmail(from_address,to_address,message)\n",
    "        counter += 1\n",
    "    \n",
    "    # Go to Next Page\n",
    "    page += 1\n",
    "\n",
    "smtp_object.quit()\n",
    "\n",
    "end_time = time.time() - start_time\n",
    "print('Time used = {}, Pages ran through = {}, Total E-mail sent = {}'.format(end_time,page,counter))\n",
    "x = input(\"Do you wanna start again? (Yes/No)\")\n",
    "if 'y' in x or 'Y' in x:\n",
    "    page_still_valid = True\n",
    "else:\n",
    "    page_still_valid = False\n",
    "\n",
    "    "
   ]
  },
  {
   "cell_type": "code",
   "execution_count": 1,
   "metadata": {},
   "outputs": [
    {
     "name": "stdout",
     "output_type": "stream",
     "text": [
      "Mail had been sent succesfully\n"
     ]
    }
   ],
   "source": [
    "#Simple example of just sending email\n",
    "\n",
    "import smtplib\n",
    "\n",
    "from email.mime.text import MIMEText\n",
    "from email.mime.multipart import MIMEMultipart\n",
    "\n",
    "to = 'ihmcm2gogogo@gmail.com'\n",
    "fromm = 'seanlyw613@gmail.com'\n",
    "your_pass = \"lrjltmofvwhffapc\"\n",
    "body = \"Subject: André Gide\" + \"\\n\" + \"It is better to be hated for what you are than to be loved for what you are not\"\n",
    "subject = 'Subject goes here'\n",
    "message = MIMEMultipart()\n",
    "message['From'] = fromm\n",
    "message['To'] = to\n",
    "message['Subject'] = subject\n",
    "message.attach(MIMEText(body, 'plain'))\n",
    "text = message.as_string()\n",
    "\n",
    "mail = smtplib.SMTP('smtp.gmail.com', 587)\n",
    "mail.ehlo()\n",
    "mail.starttls()\n",
    "mail.login(fromm,your_pass)\n",
    "mail.sendmail(fromm,to, text)\n",
    "mail.close()\n",
    "print('Mail had been sent succesfully')\n",
    "\n",
    "\n",
    "\n"
   ]
  }
 ],
 "metadata": {
  "kernelspec": {
   "display_name": "Python 3",
   "language": "python",
   "name": "python3"
  },
  "language_info": {
   "codemirror_mode": {
    "name": "ipython",
    "version": 3
   },
   "file_extension": ".py",
   "mimetype": "text/x-python",
   "name": "python",
   "nbconvert_exporter": "python",
   "pygments_lexer": "ipython3",
   "version": "3.8.5"
  }
 },
 "nbformat": 4,
 "nbformat_minor": 4
}
