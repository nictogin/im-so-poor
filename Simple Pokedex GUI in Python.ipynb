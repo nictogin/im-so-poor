{
 "cells": [
  {
   "cell_type": "code",
   "execution_count": 1,
   "metadata": {},
   "outputs": [],
   "source": [
    "#pip install pypokedex\n",
    "#pip install pillow\n",
    "#pip install urllib3\n",
    "#or you can do webscrapping instead of importing the pokedex\n",
    "import pypokedex \n",
    "import PIL.Image, PIL.ImageTk #we put PIL cuz there might be confusion that other lib has Image\n",
    "import tkinter as tk\n",
    "import urllib3\n",
    "from io import BytesIO #cuz when we call a image from pypokedex it's going to give us a link to that image so we need this to handle the bytes\n"
   ]
  },
  {
   "cell_type": "code",
   "execution_count": 2,
   "metadata": {},
   "outputs": [
    {
     "name": "stdout",
     "output_type": "stream",
     "text": [
      "Pokemon(dex=4, name='charmander')\n",
      "[Ability(name='blaze', is_hidden=False), Ability(name='solar-power', is_hidden=True)]\n",
      "['fire']\n",
      "Sprites(front={'default': 'https://raw.githubusercontent.com/PokeAPI/sprites/master/sprites/pokemon/4.png', 'female': None, 'shiny': 'https://raw.githubusercontent.com/PokeAPI/sprites/master/sprites/pokemon/shiny/4.png', 'shiny_female': None}, back={'default': 'https://raw.githubusercontent.com/PokeAPI/sprites/master/sprites/pokemon/back/4.png', 'female': None, 'shiny': 'https://raw.githubusercontent.com/PokeAPI/sprites/master/sprites/pokemon/back/shiny/4.png', 'shiny_female': None})\n",
      "https://raw.githubusercontent.com/PokeAPI/sprites/master/sprites/pokemon/4.png\n"
     ]
    }
   ],
   "source": [
    "pokemon = pypokedex.get(name='charmander')#name or id\n",
    "print(pokemon)\n",
    "print(pokemon.abilities)\n",
    "print(pokemon.types)\n",
    "print(pokemon.sprites)\n",
    "print(pokemon.sprites.front.get(\"default\"))"
   ]
  },
  {
   "cell_type": "code",
   "execution_count": 3,
   "metadata": {},
   "outputs": [],
   "source": [
    "#GUI\n",
    "window = tk.Tk()\n",
    "window.geometry(\"600x500\")\n",
    "window.title(\"Nictogin Pokedex\")\n",
    "window.config(padx = 10, pady = 10)\n",
    "\n",
    "title_label = tk.Label(window, text = \"Nictogin Pokedex\")\n",
    "title_label.config(font = (\"Arial\",32))\n",
    "title_label.pack(padx = 10, pady = 10)\n",
    "\n",
    "pokemon_image = tk.Label(window)\n",
    "pokemon_image.pack(padx = 10, pady = 10)\n",
    "\n",
    "pokemon_information = tk.Label(window)\n",
    "pokemon_information.config(font=(\"Arial\", 20))\n",
    "pokemon_information.pack(padx = 10, pady = 10)\n",
    "\n",
    "pokemon_types = tk.Label(window)\n",
    "pokemon_types.config(font=(\"Arial\", 20))\n",
    "pokemon_types.pack(padx = 10, pady = 10)\n",
    "\n",
    "label_id_name = tk.Label(window, text = \"ID or Name\")\n",
    "label_id_name.config(font=(\"Arial\",20))\n",
    "label_id_name.pack(padx = 10, pady = 10)\n",
    "\n",
    "text_id_name = tk.Text(window, height=1)\n",
    "text_id_name.config(font=(\"Arial\",20))\n",
    "text_id_name.pack(padx = 10, pady = 10)\n",
    "\n",
    "#Function to load the pokemon\n",
    "def load_pokemon():\n",
    "    pokemon = pypokedex.get(name = text_id_name.get(1.0,\"end-1c\"))#get the name of pokemon and load and save it as a object    \n",
    "    \n",
    "    http = urllib3.PoolManager()\n",
    "    response = http.request('GET', pokemon.sprites.front.get('default')) #actual image\n",
    "    image = PIL.Image.open(BytesIO(response.data)) #turn it into pillow object\n",
    "    \n",
    "    img = PIL.ImageTk.PhotoImage(image)\n",
    "    pokemon_image.config(image=img)\n",
    "    pokemon_image.image = img\n",
    "    \n",
    "    pokemon_information.config(text=f'{pokemon.dex}-{pokemon.name}')\n",
    "    pokemon_types.config(text=' - '.join([t for t in pokemon.types]).title())\n",
    "\n",
    "btn_load = tk.Button(window, text = \"Load Pokemon\", command = load_pokemon)\n",
    "btn_load.config(font=(\"Arial\",20))\n",
    "btn_load.pack(padx = 10, pady = 10)    \n",
    "\n",
    "window.mainloop()"
   ]
  }
 ],
 "metadata": {
  "kernelspec": {
   "display_name": "Python 3",
   "language": "python",
   "name": "python3"
  },
  "language_info": {
   "codemirror_mode": {
    "name": "ipython",
    "version": 3
   },
   "file_extension": ".py",
   "mimetype": "text/x-python",
   "name": "python",
   "nbconvert_exporter": "python",
   "pygments_lexer": "ipython3",
   "version": "3.8.5"
  }
 },
 "nbformat": 4,
 "nbformat_minor": 4
}
