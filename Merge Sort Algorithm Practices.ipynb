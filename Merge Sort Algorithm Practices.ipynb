{
 "cells": [
  {
   "cell_type": "code",
   "execution_count": 1,
   "metadata": {},
   "outputs": [
    {
     "name": "stdout",
     "output_type": "stream",
     "text": [
      "[790, 571, 471, 726, 939, 362, 980, 847, 793, 930, 363, 968, 164, 272, 57, 220, 78, 974, 683, 668, 926, 15, 709, 998, 803, 674, 755, 2, 769, 772, 860, 78, 844, 320, 279, 894, 688, 832, 125, 398, 781, 574, 404, 377, 447, 113, 884, 471, 33, 361, 756, 410, 405, 548, 620, 46, 834, 984, 355, 786, 358, 302, 870, 635, 328, 677, 444, 324, 461, 1, 726, 892, 17, 240, 106, 670, 226, 838, 689, 279, 260, 575, 165, 772, 507, 423, 914, 508, 757, 158, 715, 747, 192, 602, 51, 307, 304, 302, 751, 761]\n"
     ]
    }
   ],
   "source": [
    "# O(nlogn)\n",
    "import random\n",
    "random.seed('abc')\n",
    "numbers = [random.randint(0,1000) for n in range(100)]\n",
    "\n",
    "print(numbers)"
   ]
  },
  {
   "cell_type": "code",
   "execution_count": 2,
   "metadata": {},
   "outputs": [],
   "source": [
    "def mergesort(arr):\n",
    "    l = len(arr)\n",
    "    if l>1:\n",
    "        mid = l//2\n",
    "        \n",
    "        left=arr[:mid]\n",
    "        right=arr[mid:]\n",
    "        mergesort(left)\n",
    "        mergesort(right)\n",
    "        \n",
    "        x=0\n",
    "        y=0\n",
    "        z=0\n",
    "        \n",
    "        while x<len(left) and y<len(right):\n",
    "            if left[x]<right[y]:\n",
    "                arr[z]=left[x]\n",
    "                x+=1\n",
    "                \n",
    "            else:\n",
    "                arr[z]=right[y]\n",
    "                y+=1\n",
    "            z+=1\n",
    "        while x<len(left):\n",
    "            arr[z]=left[x]\n",
    "            x+=1\n",
    "            z+=1\n",
    "        while y<len(right):\n",
    "            arr[z]=right[y]\n",
    "            y+=1\n",
    "            z+=1\n"
   ]
  },
  {
   "cell_type": "code",
   "execution_count": 3,
   "metadata": {},
   "outputs": [
    {
     "name": "stdout",
     "output_type": "stream",
     "text": [
      "[1, 2, 15, 17, 33, 46, 51, 57, 78, 78, 106, 113, 125, 158, 164, 165, 192, 220, 226, 240, 260, 272, 279, 279, 302, 302, 304, 307, 320, 324, 328, 355, 358, 361, 362, 363, 377, 398, 404, 405, 410, 423, 444, 447, 461, 471, 471, 507, 508, 548, 571, 574, 575, 602, 620, 635, 668, 670, 674, 677, 683, 688, 689, 709, 715, 726, 726, 747, 751, 755, 756, 757, 761, 769, 772, 772, 781, 786, 790, 793, 803, 832, 834, 838, 844, 847, 860, 870, 884, 892, 894, 914, 926, 930, 939, 968, 974, 980, 984, 998]\n"
     ]
    }
   ],
   "source": [
    "mergesort(numbers)\n",
    "print(numbers)"
   ]
  },
  {
   "cell_type": "code",
   "execution_count": 4,
   "metadata": {},
   "outputs": [],
   "source": [
    "#30-5-2021 I'm busy thinking my college decision these days so I didnt start any new project but only praticing some old\n",
    "#classic stuffs. \n",
    "#But in the future, there are some direction of projects that I would like to go\n",
    "#1. Algo Trade\n",
    "#2. PDE/ODE solving\n",
    "#3. Financial Indicator\n",
    "#4. Leetcode pratices\n",
    "#5. Web development\n",
    "#6. Software development\n",
    "#7. Mathematical modelling\n",
    "#8. Neural Network\n",
    "#9. More on NLP\n",
    "#10. combining sentiment analysis and crypto prices\n",
    "#and many others....."
   ]
  }
 ],
 "metadata": {
  "kernelspec": {
   "display_name": "Python 3",
   "language": "python",
   "name": "python3"
  },
  "language_info": {
   "codemirror_mode": {
    "name": "ipython",
    "version": 3
   },
   "file_extension": ".py",
   "mimetype": "text/x-python",
   "name": "python",
   "nbconvert_exporter": "python",
   "pygments_lexer": "ipython3",
   "version": "3.8.5"
  }
 },
 "nbformat": 4,
 "nbformat_minor": 4
}
