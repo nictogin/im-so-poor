{
 "cells": [
  {
   "cell_type": "code",
   "execution_count": null,
   "metadata": {},
   "outputs": [],
   "source": [
    "'''\n",
    "Given two arrays num[0,1,...,k-1] and rem[0,1,...,k-1],\n",
    "Every (num[i],rem[i])pair is coprime (gcd for every pair is 1).\n",
    "We need to find minimum positive number x such that: \n",
    "     x % num[0]    =  rem[0], \n",
    "     x % num[1]    =  rem[1], \n",
    "     .......................\n",
    "     x % num[k-1]  =  rem[k-1] \n",
    "e.g.\n",
    "Input:  num[] = {3, 4, 5}, rem[] = {2, 3, 1}\n",
    "Output: 11\n",
    "Explanation: \n",
    "11 is the smallest number such that:\n",
    "  (1) When we divide it by 3, we get remainder 2. \n",
    "  (2) When we divide it by 4, we get remainder 3.\n",
    "  (3) When we divide it by 5, we get remainder 1.\n",
    "  \n",
    "Chinese Remainder Theorem states that there always exists an x that satisfies given congruences\n",
    "\"\n",
    "Let num[0], num[1], …num[k-1] be positive integers that are pairwise coprime. \n",
    "Then, for any given sequence of integers rem[0], rem[1], … rem[k-1], \n",
    "there exists an integer x solving the following system of simultaneous congruences.\n",
    "\"\n",
    "\n",
    "Furthermore, all solutions x of this system are congruent modulo the product, \n",
    "prod = num[0]*num[1]*...num[k-1]\n",
    "Hence,\n",
    "\"\n",
    "    x congruent modulo y (mod num[i]), 0<=i<=k-1\n",
    "iff\n",
    "    x congruent modulo y (mod prod)\n",
    "\"\n",
    "'''"
   ]
  },
  {
   "cell_type": "code",
   "execution_count": 3,
   "metadata": {},
   "outputs": [
    {
     "name": "stdout",
     "output_type": "stream",
     "text": [
      "x is 11\n"
     ]
    }
   ],
   "source": [
    "def findMinX(num, rem):\n",
    "    x = 1\n",
    "    k = len(num)\n",
    "    while(True):\n",
    "\n",
    "        j = 0\n",
    "        while(j < k):\n",
    "            if (x % num[j] != rem[j]):\n",
    "                break\n",
    "            j += 1\n",
    "\n",
    "        if (j == k):\n",
    "            return x\n",
    " \n",
    "        # Else try next numner\n",
    "        x += 1"
   ]
  },
  {
   "cell_type": "code",
   "execution_count": 4,
   "metadata": {},
   "outputs": [
    {
     "data": {
      "text/plain": [
       "11"
      ]
     },
     "execution_count": 4,
     "metadata": {},
     "output_type": "execute_result"
    }
   ],
   "source": [
    "num = [3, 4, 5]\n",
    "rem = [2, 3, 1]\n",
    "findMinX(num, rem)"
   ]
  },
  {
   "cell_type": "markdown",
   "metadata": {},
   "source": [
    "https://www.geeksforgeeks.org/chinese-remainder-theorem-set-1-introduction/"
   ]
  },
  {
   "cell_type": "code",
   "execution_count": null,
   "metadata": {},
   "outputs": [],
   "source": [
    "'''\n",
    "Inverse Modulo based Implementation\n",
    "\n",
    "x =  ( ∑ (rem[i]*pp[i]*inv[i]) ) % prod\n",
    "   Where 0 <= i <= n-1\n",
    "\n",
    "rem[i] is given array of remainders\n",
    "\n",
    "prod is product of all given numbers\n",
    "prod = num[0] * num[1] * ... * num[k-1]\n",
    "\n",
    "pp[i] is product of all divided by num[i]\n",
    "pp[i] = prod / num[i]\n",
    "\n",
    "inv[i] = Modular Multiplicative Inverse of \n",
    "         pp[i] with respect to num[i]\n",
    "'''"
   ]
  },
  {
   "cell_type": "code",
   "execution_count": 5,
   "metadata": {},
   "outputs": [],
   "source": [
    "def inv(a, m) :     \n",
    "    m0 = m\n",
    "    x0 = 0\n",
    "    x1 = 1\n",
    "    if (m == 1) :\n",
    "        return 0\n",
    "    # Apply extended Euclid Algorithm\n",
    "    while (a > 1) :\n",
    "        # q is quotient\n",
    "        q = a // m\n",
    "        t = m\n",
    "        # m is remainder now, process\n",
    "        # same as euclid's algo\n",
    "        m = a % m\n",
    "        a = t\n",
    "        t = x0\n",
    "        x0 = x1 - q * x0 \n",
    "        x1 = t     \n",
    "    # Make x1 positive\n",
    "    if (x1 < 0) :\n",
    "        x1 = x1 + m0\n",
    "\n",
    "    return x1\n",
    "\n",
    "def findMinX(num, rem) :\n",
    "     \n",
    "    # Compute product of all numbers\n",
    "    k = len(num)\n",
    "    prod = 1\n",
    "    for i in range(0, k) :\n",
    "        prod = prod * num[i]\n",
    " \n",
    "    # Initialize result\n",
    "    result = 0\n",
    " \n",
    "    # Apply above formula\n",
    "    for i in range(0,k):\n",
    "        pp = prod // num[i]\n",
    "        result = result + rem[i] * inv(pp, num[i]) * pp\n",
    "     \n",
    "     \n",
    "    return result % prod\n",
    " "
   ]
  },
  {
   "cell_type": "code",
   "execution_count": 7,
   "metadata": {},
   "outputs": [
    {
     "data": {
      "text/plain": [
       "11"
      ]
     },
     "execution_count": 7,
     "metadata": {},
     "output_type": "execute_result"
    }
   ],
   "source": [
    "num = [3, 4, 5]\n",
    "rem = [2, 3, 1]\n",
    "\n",
    "findMinX(num, rem)"
   ]
  },
  {
   "cell_type": "markdown",
   "metadata": {},
   "source": [
    "Euclidean Algorithm, Euler's Theorem\n",
    "\n",
    "https://en.wikipedia.org/wiki/Modular_multiplicative_inverse\n",
    "    \n",
    "https://www.geeksforgeeks.org/chinese-remainder-theorem-set-2-implementation/"
   ]
  }
 ],
 "metadata": {
  "kernelspec": {
   "display_name": "Python 3",
   "language": "python",
   "name": "python3"
  },
  "language_info": {
   "codemirror_mode": {
    "name": "ipython",
    "version": 3
   },
   "file_extension": ".py",
   "mimetype": "text/x-python",
   "name": "python",
   "nbconvert_exporter": "python",
   "pygments_lexer": "ipython3",
   "version": "3.8.5"
  }
 },
 "nbformat": 4,
 "nbformat_minor": 4
}
