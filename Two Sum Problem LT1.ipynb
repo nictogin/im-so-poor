{
 "cells": [
  {
   "cell_type": "markdown",
   "metadata": {},
   "source": [
    "Given an array of integers nums and an integer target, return indices of the two numbers such that they add up to target.\n",
    "\n",
    "You may assume that each input would have exactly one solution, and you may not use the same element twice.\n",
    "\n",
    "You can return the answer in any order.\n"
   ]
  },
  {
   "cell_type": "code",
   "execution_count": 1,
   "metadata": {},
   "outputs": [],
   "source": [
    "#Brute Force\n",
    "class Solution(object):\n",
    "    def twoSum(self, nums, target):\n",
    "        for x in range(len(nums)):\n",
    "            for y in range(x+1,len(nums)):\n",
    "                if nums[x]+nums[y] == target:\n",
    "                    return [x,y]"
   ]
  },
  {
   "cell_type": "code",
   "execution_count": 2,
   "metadata": {},
   "outputs": [],
   "source": [
    "class Solution:\n",
    "    def twoSum(self, nums, target):\n",
    "        \"\"\"\n",
    "        :type nums: List[int]\n",
    "        :type target: int\n",
    "        :rtype: List[int]\n",
    "        \"\"\"\n",
    "        h = {}\n",
    "        for i, num in enumerate(nums):\n",
    "            n = target - num\n",
    "            if n not in h:\n",
    "                h[num] = i\n",
    "            else:\n",
    "                return [h[n], i]\n",
    "            \n",
    "class Solution:\n",
    "    def twoSum(self, nums, target):\n",
    "                      \n",
    "        mapping = {n: i for i, n in enumerate(nums)}\n",
    "        \n",
    "        for i, num in enumerate(nums):\n",
    "            diff = mapping.get(target - num, False)\n",
    "            \n",
    "            if diff and diff != i:\n",
    "                return [i, diff]\n",
    "            \n",
    "#these methods are silmilar, for the brute, we are using X+Y=Z, now we are finding the X that for certain Y, X=Z-Y\n",
    "#Hash table"
   ]
  }
 ],
 "metadata": {
  "kernelspec": {
   "display_name": "Python 3",
   "language": "python",
   "name": "python3"
  },
  "language_info": {
   "codemirror_mode": {
    "name": "ipython",
    "version": 3
   },
   "file_extension": ".py",
   "mimetype": "text/x-python",
   "name": "python",
   "nbconvert_exporter": "python",
   "pygments_lexer": "ipython3",
   "version": "3.8.5"
  }
 },
 "nbformat": 4,
 "nbformat_minor": 4
}
