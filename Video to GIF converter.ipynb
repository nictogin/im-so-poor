{
 "cells": [
  {
   "cell_type": "code",
   "execution_count": 2,
   "metadata": {},
   "outputs": [],
   "source": [
    "def videotogif(filename,gifname,rate):\n",
    "    from moviepy.editor import VideoFileClip\n",
    "    from PIL import Image\n",
    "    clip = VideoFileClip('%s'%filename)\n",
    "    clip.write_gif('%s.gif'%gifname,fps=rate)\n",
    "    im = Image.open('%s.gif'%gifname)"
   ]
  }
 ],
 "metadata": {
  "kernelspec": {
   "display_name": "Python 3",
   "language": "python",
   "name": "python3"
  },
  "language_info": {
   "codemirror_mode": {
    "name": "ipython",
    "version": 3
   },
   "file_extension": ".py",
   "mimetype": "text/x-python",
   "name": "python",
   "nbconvert_exporter": "python",
   "pygments_lexer": "ipython3",
   "version": "3.8.5"
  }
 },
 "nbformat": 4,
 "nbformat_minor": 4
}
