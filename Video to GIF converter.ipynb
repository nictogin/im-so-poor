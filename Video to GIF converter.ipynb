{
 "cells": [
  {
   "cell_type": "code",
   "execution_count": 1,
   "metadata": {},
   "outputs": [],
   "source": [
    "def videotogif(filename,gifname,rate):\n",
    "    from moviepy.editor import VideoFileClip\n",
    "    from PIL import Image\n",
    "    clip = VideoFileClip('%s'%filename)\n",
    "    clip.write_gif('%s.gif'%gifname,fps=rate)\n",
    "    im = Image.open('%s.gif'%gifname)"
   ]
  },
  {
   "cell_type": "code",
   "execution_count": 2,
   "metadata": {},
   "outputs": [],
   "source": [
    "videotogif('blackkid.mp4','black_kid',10)"
   ]
  },
  {
   "cell_type": "code",
   "execution_count": 3,
   "metadata": {},
   "outputs": [],
   "source": [
    "#https://www.youtube.com/watch?v=I0To6dyydIg"
   ]
  }
 ],
 "metadata": {
  "kernelspec": {
   "display_name": "Python 3",
   "language": "python",
   "name": "python3"
  },
  "language_info": {
   "codemirror_mode": {
    "name": "ipython",
    "version": 3
   },
   "file_extension": ".py",
   "mimetype": "text/x-python",
   "name": "python",
   "nbconvert_exporter": "python",
   "pygments_lexer": "ipython3",
   "version": "3.8.5"
  }
 },
 "nbformat": 4,
 "nbformat_minor": 4
}
