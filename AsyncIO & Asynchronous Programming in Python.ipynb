{
 "cells": [
  {
   "cell_type": "code",
   "execution_count": 1,
   "metadata": {},
   "outputs": [
    {
     "name": "stdout",
     "output_type": "stream",
     "text": [
      "A\n",
      "B\n"
     ]
    }
   ],
   "source": [
    "import asyncio\n",
    "#make functions asynchronous\n",
    "async def main():\n",
    "    print(\"A\")\n",
    "    await asyncio.sleep(1) #force to wait/sleep for 1 sec #will proceed if something wastes time\n",
    "    print(\"B\")\n",
    "\n",
    "#asyncio.run(main())\n",
    "await main()"
   ]
  },
  {
   "cell_type": "code",
   "execution_count": 2,
   "metadata": {},
   "outputs": [
    {
     "name": "stdout",
     "output_type": "stream",
     "text": [
      "A\n",
      "1\n",
      "2\n",
      "B\n"
     ]
    }
   ],
   "source": [
    "import asyncio\n",
    "#make functions asynchronous\n",
    "async def main():\n",
    "    print(\"A\")\n",
    "    await other_function() #force to wait/sleep for 1 sec #will proceed if something wastes time\n",
    "    print(\"B\")\n",
    "\n",
    "async def other_function():\n",
    "    print(\"1\")\n",
    "    await asyncio.sleep(2)\n",
    "    print('2')\n",
    "    \n",
    "#asyncio.run(main())\n",
    "await main()\n",
    "\n",
    "#still synchronous"
   ]
  },
  {
   "cell_type": "code",
   "execution_count": 3,
   "metadata": {},
   "outputs": [
    {
     "name": "stdout",
     "output_type": "stream",
     "text": [
      "A\n",
      "1\n",
      "B\n",
      "2\n"
     ]
    }
   ],
   "source": [
    "#Make other works when one function is sleeping\n",
    "import asyncio\n",
    "\n",
    "async def main():\n",
    "    task = asyncio.create_task(other_function())\n",
    "    print(\"A\")\n",
    "    await asyncio.sleep(1)  #the main is sleeping here, and we do other_function within the 1 sec sleep time \n",
    "    print(\"B\")\n",
    "    await task\n",
    "\n",
    "async def other_function():\n",
    "    print(\"1\")\n",
    "    await asyncio.sleep(2)\n",
    "    print('2')\n",
    "    \n",
    "#asyncio.run(main())\n",
    "await main()\n"
   ]
  },
  {
   "cell_type": "code",
   "execution_count": 4,
   "metadata": {},
   "outputs": [
    {
     "name": "stdout",
     "output_type": "stream",
     "text": [
      "A\n",
      "1\n",
      "2\n",
      "B\n"
     ]
    }
   ],
   "source": [
    "#Make other works when one function is sleeping\n",
    "import asyncio\n",
    "\n",
    "async def main():\n",
    "    task = asyncio.create_task(other_function())\n",
    "    print(\"A\")\n",
    "    await asyncio.sleep(5)  #it won't return the 10\n",
    "    print(\"B\")\n",
    "    await task\n",
    "\n",
    "async def other_function():\n",
    "    print(\"1\")\n",
    "    await asyncio.sleep(2)\n",
    "    print('2')\n",
    "    return 10\n",
    "#asyncio.run(main())\n",
    "await main()\n",
    "\n"
   ]
  },
  {
   "cell_type": "code",
   "execution_count": 5,
   "metadata": {},
   "outputs": [
    {
     "name": "stdout",
     "output_type": "stream",
     "text": [
      "A\n",
      "1\n",
      "2\n",
      "B\n",
      "10\n"
     ]
    },
    {
     "data": {
      "text/plain": [
       "10"
      ]
     },
     "execution_count": 5,
     "metadata": {},
     "output_type": "execute_result"
    }
   ],
   "source": [
    "#Make other works when one function is sleeping\n",
    "import asyncio\n",
    "\n",
    "async def main():\n",
    "    task = asyncio.create_task(other_function())\n",
    "    print(\"A\")\n",
    "    await asyncio.sleep(5) \n",
    "    print(\"B\")\n",
    "    return_value = await task\n",
    "    print(return_value)\n",
    "    return(return_value)\n",
    "async def other_function():\n",
    "    print(\"1\")\n",
    "    await asyncio.sleep(2)\n",
    "    print('2')\n",
    "    return 10\n",
    "#asyncio.run(main())\n",
    "await main()\n",
    "\n"
   ]
  },
  {
   "cell_type": "markdown",
   "metadata": {},
   "source": [
    "https://stackoverflow.com/questions/55409641/asyncio-run-cannot-be-called-from-a-running-event-loop\n",
    "    \n",
    "https://www.youtube.com/watch?v=6RbJYN7SoRs"
   ]
  }
 ],
 "metadata": {
  "kernelspec": {
   "display_name": "Python 3",
   "language": "python",
   "name": "python3"
  },
  "language_info": {
   "codemirror_mode": {
    "name": "ipython",
    "version": 3
   },
   "file_extension": ".py",
   "mimetype": "text/x-python",
   "name": "python",
   "nbconvert_exporter": "python",
   "pygments_lexer": "ipython3",
   "version": "3.8.5"
  }
 },
 "nbformat": 4,
 "nbformat_minor": 4
}
