{
 "cells": [
  {
   "cell_type": "code",
   "execution_count": null,
   "metadata": {},
   "outputs": [],
   "source": [
    "'''\n",
    "Leonhard Euler was born on 15 April 1707.\n",
    "\n",
    "Consider the sequence 1504170715041707n mod 4503599627370517.\n",
    "\n",
    "An element of this sequence is defined to be an Eulercoin if it is strictly smaller than all previously found Eulercoins.\n",
    "\n",
    "For example, the first term is 1504170715041707 which is the first Eulercoin. The second term is 3008341430083414 which is greater than 1504170715041707 so is not an Eulercoin. However, the third term is 8912517754604 which is small enough to be a new Eulercoin.\n",
    "\n",
    "The sum of the first 2 Eulercoins is therefore 1513083232796311.\n",
    "\n",
    "Find the sum of all Eulercoins.\n",
    "'''"
   ]
  },
  {
   "cell_type": "code",
   "execution_count": null,
   "metadata": {},
   "outputs": [
    {
     "name": "stdout",
     "output_type": "stream",
     "text": [
      "8912517754604\n",
      "2044785486369\n",
      "1311409677241\n",
      "578033868113\n",
      "422691927098\n",
      "267349986083\n",
      "112008045068\n",
      "68674149121\n",
      "25340253174\n",
      "7346610401\n",
      "4046188430\n",
      "745766459\n",
      "428410324\n",
      "111054189\n",
      "15806432\n",
      "15397267\n",
      "14988102\n",
      "14578937\n",
      "14169772\n",
      "13760607\n",
      "13351442\n",
      "12942277\n",
      "12533112\n",
      "12123947\n",
      "11714782\n",
      "11305617\n",
      "10896452\n",
      "10487287\n",
      "10078122\n",
      "9668957\n",
      "9259792\n",
      "8850627\n",
      "8441462\n",
      "8032297\n",
      "7623132\n",
      "7213967\n",
      "6804802\n",
      "6395637\n",
      "5986472\n",
      "5577307\n",
      "5168142\n",
      "4758977\n",
      "4349812\n",
      "3940647\n",
      "3531482\n",
      "3122317\n",
      "2713152\n",
      "2303987\n",
      "1894822\n",
      "1485657\n",
      "1076492\n",
      "667327\n",
      "258162\n"
     ]
    }
   ],
   "source": [
    "#brutal force\n",
    "sum_of_eulercoin = 1504170715041707\n",
    "last_eulercoin = 1504170715041707\n",
    "minimium_has_achieved = False\n",
    "n = 2\n",
    "while not minimium_has_achieved:\n",
    "    x = (1504170715041707*n)%4503599627370517\n",
    "    n += 1\n",
    "    if x < last_eulercoin:\n",
    "        last_eulercoin = x\n",
    "        sum_of_eulercoin += x\n",
    "        print(x)\n",
    "    if last_eulercoin == 1:\n",
    "        print(sum_of_eulercoin)\n",
    "        minimium_has_achieved = True"
   ]
  },
  {
   "cell_type": "markdown",
   "metadata": {},
   "source": [
    "Quickier method\n",
    "\n",
    "https://urmaul.com/blog/solution-for-project-euler-problem-700/\n",
    "\n",
    "https://saracogluahmet.wordpress.com/2020/02/06/eulercoin-problem-700-leonhard-euler-was-born-on-15-april-1707/   My code takes forever to finish"
   ]
  }
 ],
 "metadata": {
  "kernelspec": {
   "display_name": "Python 3",
   "language": "python",
   "name": "python3"
  },
  "language_info": {
   "codemirror_mode": {
    "name": "ipython",
    "version": 3
   },
   "file_extension": ".py",
   "mimetype": "text/x-python",
   "name": "python",
   "nbconvert_exporter": "python",
   "pygments_lexer": "ipython3",
   "version": "3.8.5"
  }
 },
 "nbformat": 4,
 "nbformat_minor": 4
}
