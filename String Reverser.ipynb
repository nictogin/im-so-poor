{
 "cells": [
  {
   "cell_type": "code",
   "execution_count": null,
   "metadata": {},
   "outputs": [],
   "source": [
    "'''\n",
    "Reverse a String - Enter a string and the program will reverse it and print it out.\n",
    "'''"
   ]
  },
  {
   "cell_type": "code",
   "execution_count": 1,
   "metadata": {},
   "outputs": [
    {
     "data": {
      "text/plain": [
       "'!roop os ma I'"
      ]
     },
     "execution_count": 1,
     "metadata": {},
     "output_type": "execute_result"
    }
   ],
   "source": [
    "def reverstr(string):\n",
    "    characters = list(string)\n",
    "    reversed_str = list()\n",
    "    \n",
    "    for n in range(len(string)):\n",
    "        reversed_str.append(characters[-n-1])\n",
    "    return str(''.join(reversed_str))\n",
    "        \n",
    "reverstr('I am so poor!')"
   ]
  },
  {
   "cell_type": "code",
   "execution_count": 2,
   "metadata": {},
   "outputs": [
    {
     "name": "stdout",
     "output_type": "stream",
     "text": [
      "Please enter what you want to reverse: I am so freaking poor!\n",
      "!roop gnikaerf os ma I\n"
     ]
    }
   ],
   "source": [
    "string = input('Please enter what you want to reverse: ')\n",
    "characters = list(string)\n",
    "reversed_str = list()\n",
    "for n in range(len(string)):\n",
    "        reversed_str.append(characters[-n-1])\n",
    "print(str(''.join(reversed_str)))"
   ]
  }
 ],
 "metadata": {
  "kernelspec": {
   "display_name": "Python 3",
   "language": "python",
   "name": "python3"
  },
  "language_info": {
   "codemirror_mode": {
    "name": "ipython",
    "version": 3
   },
   "file_extension": ".py",
   "mimetype": "text/x-python",
   "name": "python",
   "nbconvert_exporter": "python",
   "pygments_lexer": "ipython3",
   "version": "3.8.5"
  }
 },
 "nbformat": 4,
 "nbformat_minor": 4
}
