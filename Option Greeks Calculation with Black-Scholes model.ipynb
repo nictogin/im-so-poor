{
 "cells": [
  {
   "cell_type": "markdown",
   "id": "b86198cf",
   "metadata": {},
   "source": [
    "https://en.wikipedia.org/wiki/Black–Scholes_model#The_Options_Greeks\n",
    "\n",
    "https://asxportfolio.com/options-calculating-bs-option-greeks\n"
   ]
  },
  {
   "cell_type": "code",
   "execution_count": 4,
   "id": "82945ef5",
   "metadata": {},
   "outputs": [
    {
     "name": "stdout",
     "output_type": "stream",
     "text": [
      "Option Price is:  0.58\n",
      "Option Price is:  20.12\n"
     ]
    }
   ],
   "source": [
    "from py_vollib.black_scholes import black_scholes as bs\n",
    "from py_vollib.black_scholes.greeks.analytical import delta, gamma, rho, theta, vega\n",
    "import numpy as np\n",
    "from scipy.stats import norm\n",
    "\n",
    "# define variables\n",
    "r = 0.01         # risk-free interest rate\n",
    "S = 50           # the price of the option as a function of the underlying asset S (at time t)\n",
    "K = 70           # strike price/exercise price of the option\n",
    "T = 240/365      # time until option expirations in years (T-t)\n",
    "sigma = 0.30     # the standard deviation or Std of the stock's (log) returns\n",
    "\n",
    "def blackScholes(r,S,K,T,sigma, type='C'):\n",
    "    #Calculate BS option price for a call/put\n",
    "    d1 = (np.log(S/K)+(r+(sigma**2)/2)*T)/(sigma*np.sqrt(T))\n",
    "    d2 = d1 - sigma*np.sqrt(T)\n",
    "    try:\n",
    "        if type == 'C':\n",
    "            price = S*norm.cdf(d1,0,1) - K*np.exp(-r*T)*norm.cdf(d2,0,1) #cummulative distribution function of normal distribution\n",
    "        elif type == 'P':\n",
    "            price = K*np.exp(-r*T)*norm.cdf(-d2,0,1) - S*norm.cdf(-d1,0,1)\n",
    "        return price\n",
    "    except:\n",
    "        print(\"Please check the variables\")\n",
    "        \n",
    "print(\"Option Price is: \", round(blackScholes(r,S,K,T,sigma,type='C'),2))\n",
    "print(\"Option Price is: \", round(blackScholes(r,S,K,T,sigma,type='P'),2))"
   ]
  },
  {
   "cell_type": "code",
   "execution_count": 7,
   "id": "9b080ab6",
   "metadata": {},
   "outputs": [
    {
     "data": {
      "text/plain": [
       "(0.10851088956616484, 0.10851088956616482)"
      ]
     },
     "execution_count": 7,
     "metadata": {},
     "output_type": "execute_result"
    }
   ],
   "source": [
    "#delta\n",
    "#sensitivity of an option to a shift in the underlying asset\n",
    "\n",
    "def option_delta(r,S,K,T,sigma,type='c'):\n",
    "    d1 = (np.log(S/K)+(r+(sigma**2)/2)*T)/(sigma*np.sqrt(T))\n",
    "    try:\n",
    "        if type == 'c':\n",
    "            option_delta = norm.cdf(d1,0,1)\n",
    "        elif type == 'p':\n",
    "            option_delta = norm.cdf(-d1,0,1)\n",
    "        return option_delta, delta(type, S,K,T,r,sigma)\n",
    "    except:\n",
    "        print(\"Please check the variables\")\n",
    "option_delta(r,S,K,T,sigma,type='c')"
   ]
  },
  {
   "cell_type": "code",
   "execution_count": 8,
   "id": "3ef3ca6f",
   "metadata": {},
   "outputs": [
    {
     "data": {
      "text/plain": [
       "(0.015308644186967922, 0.01530864418696792)"
      ]
     },
     "execution_count": 8,
     "metadata": {},
     "output_type": "execute_result"
    }
   ],
   "source": [
    "#Gamma\n",
    "#sensitivity to small movements in the underlying, because it doesn’t stay constant\n",
    "\n",
    "def option_gamma(r,S,K,T,sigma,type='c'):\n",
    "    d1 = (np.log(S/K)+(r+(sigma**2)/2)*T)/(sigma*np.sqrt(T))\n",
    "    d2 = d1 - sigma*np.sqrt(T)\n",
    "    try:\n",
    "        option_gamma = norm.pdf(d1,0,1)/(S*sigma*np.sqrt(T))\n",
    "        return option_gamma, gamma(type, S,K,T,r,sigma)\n",
    "    except:\n",
    "        print(\"Please check the variables\")\n",
    "option_gamma(r,S,K,T,sigma,type='c')"
   ]
  },
  {
   "cell_type": "code",
   "execution_count": 11,
   "id": "ed8fc94b",
   "metadata": {},
   "outputs": [
    {
     "data": {
      "text/plain": [
       "(0.07549468366175963, 0.07549468366175961)"
      ]
     },
     "execution_count": 11,
     "metadata": {},
     "output_type": "execute_result"
    }
   ],
   "source": [
    "#Vega\n",
    "#sensitivity to changes in its implied volatility (typically for a move of 1% in the latter)\n",
    "\n",
    "def option_vega(r,S,K,T,sigma,type='c'):\n",
    "    d1 = (np.log(S/K)+(r+(sigma**2)/2)*T)/(sigma*np.sqrt(T))\n",
    "    d2 = d1 - sigma*np.sqrt(T)\n",
    "    try:\n",
    "        option_vega = S*norm.pdf(d1,0,1)*np.sqrt(T)\n",
    "        return option_vega*0.01, vega(type, S,K,T,r,sigma) #\"1%\"\n",
    "    except:\n",
    "        print(\"Please check the variables\")\n",
    "option_vega(r,S,K,T,sigma,type='c')"
   ]
  },
  {
   "cell_type": "code",
   "execution_count": 15,
   "id": "871e78e7",
   "metadata": {},
   "outputs": [
    {
     "data": {
      "text/plain": [
       "(-0.004851283650149926, -0.004851283650149924)"
      ]
     },
     "execution_count": 15,
     "metadata": {},
     "output_type": "execute_result"
    }
   ],
   "source": [
    "#Theta\n",
    "#risk parameter used to describe the time decay in the option's value \n",
    "#\"the loss the option will suffer for one calendar day\"\n",
    "#Theta can be thought of as a trade-off for gamma. Long options have negative theta, and short options have positive.\n",
    "\n",
    "def option_theta(r,S,K,T,sigma,type='c'):\n",
    "    d1 = (np.log(S/K)+(r+(sigma**2)/2)*T)/(sigma*np.sqrt(T))\n",
    "    d2 = d1 - sigma*np.sqrt(T)\n",
    "    try:\n",
    "        if type == 'c':\n",
    "            option_theta = -S*norm.pdf(d1,0,1)*sigma/(2*np.sqrt(T))-r*K*np.exp(-r*T)*norm.cdf(d2,0,1)\n",
    "        elif type == 'p':\n",
    "            option_theta = -S*norm.pdf(d1,0,1)*sigma/(2*np.sqrt(T))+r*K*np.exp(-r*T)*norm.cdf(d2,0,1)\n",
    "        return option_theta/365, theta(type, S,K,T,r,sigma) #\"1 calendar day\"\n",
    "    except:\n",
    "        print(\"Please check the variables\")\n",
    "option_theta(r,S,K,T,sigma,type='c')"
   ]
  },
  {
   "cell_type": "code",
   "execution_count": 16,
   "id": "ceece250",
   "metadata": {},
   "outputs": [
    {
     "data": {
      "text/plain": [
       "(0.03188782110958786, 0.03188782110958785)"
      ]
     },
     "execution_count": 16,
     "metadata": {},
     "output_type": "execute_result"
    }
   ],
   "source": [
    "#Rho \"considered the least important of the most commonly followed Greeks\"\n",
    "#sensitivity to changes in the interest rate used to derive the option’s value\n",
    "\n",
    "def option_rho(r,S,K,T,sigma,type='c'):\n",
    "    d1 = (np.log(S/K)+(r+(sigma**2)/2)*T)/(sigma*np.sqrt(T))\n",
    "    d2 = d1 - sigma*np.sqrt(T)\n",
    "    try:\n",
    "        if type == 'c':\n",
    "            option_rho = K*T*np.exp(-r*T)*norm.cdf(d2,0,1)\n",
    "        elif type == 'p':\n",
    "            option_rho = -K*T*np.exp(-r*T)*norm.cdf(-d2,0,1)\n",
    "        return option_rho*0.01, rho(type, S,K,T,r,sigma)\n",
    "    except:\n",
    "        print(\"Please check the variables\")\n",
    "option_rho(r,S,K,T,sigma,type='c')      "
   ]
  }
 ],
 "metadata": {
  "kernelspec": {
   "display_name": "Python 3 (ipykernel)",
   "language": "python",
   "name": "python3"
  },
  "language_info": {
   "codemirror_mode": {
    "name": "ipython",
    "version": 3
   },
   "file_extension": ".py",
   "mimetype": "text/x-python",
   "name": "python",
   "nbconvert_exporter": "python",
   "pygments_lexer": "ipython3",
   "version": "3.8.12"
  }
 },
 "nbformat": 4,
 "nbformat_minor": 5
}
