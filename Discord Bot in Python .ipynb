{
 "cells": [
  {
   "cell_type": "code",
   "execution_count": null,
   "metadata": {},
   "outputs": [],
   "source": [
    "#pip install discord.py\n",
    "#pip install -U python-dotenv\n",
    "import discord\n",
    "import os\n",
    "from dotenv import load_dotenv\n",
    "import nest_asyncio\n",
    "import pandas_datareader as web\n",
    "\n",
    "nest_asyncio.apply()\n",
    "client = discord.Client()\n",
    "#load_dotenv()  #load the content of the .env file (environment)\n",
    "#TOKEN = os.getenv('TOKEN')\n",
    "#.env file:\n",
    "#     # .env\n",
    "#     TOKEN=sahdihasiudhaui (your token)\n",
    "TOKEN = 'Put your token hereee'\n",
    "\n",
    "@client.event #a decorator to tell discord bot to work the code\n",
    "async def on_connect(): #*** need async\n",
    "    print(\"Bot connected to the server!\")\n",
    "    channel = client.get_channel(849023011776757780) #your channel id\n",
    "    await channel.send('Bot connected to the server!')\n",
    "    \n",
    "@client.event\n",
    "async def on_message(message):\n",
    "    if message.author == client.user:\n",
    "        return #do nothing cuz you are the one sending this message lol\n",
    "    \n",
    "    if message.content.startswith('$hello'):\n",
    "        await message.channel.send('Hello World!') #get the channel where the message send, then send hello world to that channel\n",
    "    \n",
    "    if message.content == '$private':\n",
    "        await message.author.send('Hello in Private Brother!') #send message to DM\n",
    "\n",
    "    if message.content.startswith('$stockprice'):\n",
    "        if len(message.content.split(' ')) == 2:\n",
    "            ticker = message.content.split(' ')[1]\n",
    "            price = await get_stock_price(ticker) # **** we have to await this function as well\n",
    "            await message.channel.send(f'Price of {ticker} now is {price}')\n",
    "@client.event \n",
    "    async def on_member_join(member): \n",
    "        await member.create_dm()\n",
    "        await member.dm_channel.send(f'Welcom to the server {member}!')\n",
    "\n",
    "@client.event \n",
    "    async def get_stock_price(ticker): \n",
    "        data = web.DataReader(ticker, 'yahoo')\n",
    "        return data['Close'].iloc[-1]\n",
    "client.run(TOKEN) \n",
    "\n",
    "#it works for me without nest_asyncio when I put it in sublime text and run it in Terminal"
   ]
  },
  {
   "cell_type": "markdown",
   "metadata": {},
   "source": [
    "https://stackoverflow.com/questions/57639751/how-to-fix-runtime-error-cannot-close-a-running-event-loop-python-discord-bot\n",
    "\n",
    "https://discordpy.readthedocs.io/en/stable/quickstart.html"
   ]
  }
 ],
 "metadata": {
  "kernelspec": {
   "display_name": "Python 3",
   "language": "python",
   "name": "python3"
  },
  "language_info": {
   "codemirror_mode": {
    "name": "ipython",
    "version": 3
   },
   "file_extension": ".py",
   "mimetype": "text/x-python",
   "name": "python",
   "nbconvert_exporter": "python",
   "pygments_lexer": "ipython3",
   "version": "3.8.5"
  }
 },
 "nbformat": 4,
 "nbformat_minor": 4
}
